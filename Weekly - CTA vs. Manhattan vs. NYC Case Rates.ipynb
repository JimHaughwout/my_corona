{
 "cells": [
  {
   "cell_type": "markdown",
   "metadata": {},
   "source": [
    "# Exploring My Corona(virus Data)\n",
    "When searching on COVID data for my local neighborhood in NYC (i.e., my CTA), I noticed that the NYC government was nice enough to put all of their data [online, on Github](https://github.com/nychealth/coronavirus-data). As I was stuck in quarantine and could not find an easy chart of my local data, I thought I would create my own. Here it is.\n",
    "\n",
    "## Getting the Data\n",
    "After browsing the CSVs and READMEs, I decided to look at the following data:\n",
    "\n",
    "* Weekly trends on case rate \n",
    "* Weekly trends on test rate and positivity rates\n",
    "* Latest data (most recent week) on my local jurisdiction (`MODZCTA = 10036`)\n",
    "\n",
    "I did this because I wanted a local report that I could not get. However, I invite you to explore the date set yourself as NYC does a great job of breaking out some very important data--such as case, hospitalisation, and death rates by location, race, gender, and poverty level. The poverty-level based data is particularly concerning."
   ]
  },
  {
   "cell_type": "code",
   "execution_count": 19,
   "metadata": {},
   "outputs": [],
   "source": [
    "# Constants\n",
    "CASE_RATE_URL = \"https://github.com/nychealth/coronavirus-data/blob/master/trends/caserate-by-modzcta.csv\"\n",
    "TEST_RATE_URL = \"https://github.com/nychealth/coronavirus-data/blob/master/trends/testrate-by-modzcta.csv\"\n",
    "PCT_POS_URL = \"https://github.com/nychealth/coronavirus-data/blob/master/trends/percentpositive-by-modzcta.csv\"\n",
    "LATEST_CITY_URL = \"https://github.com/nychealth/coronavirus-data/blob/master/latest/now-summary.csv\"\n",
    "LATEST_CTA_URL = \"https://github.com/nychealth/coronavirus-data/blob/master/latest/last7days-by-modzcta.csv\"\n",
    "\n",
    "BOROUGH = 'MN' # Manhattan\n",
    "#CTA = '10036'  # Hell's Kitchen\n",
    "#CTA = '10023'  # Hawthorn\n",
    "CTA = '10069'  # Riverside Blvd\n",
    "#CTA = '10010'  # Chelsea Landmark\n",
    "#CTA = '10011'  # Chelsea\n",
    "#CTA = '10075'  # Mark Hotel - UES"
   ]
  },
  {
   "cell_type": "code",
   "execution_count": 20,
   "metadata": {},
   "outputs": [
    {
     "name": "stdout",
     "output_type": "stream",
     "text": [
      "Loading case rate data...\n",
      "Loading test rate data...\n",
      "Loading percentage positive data...\n",
      "Loading latest city-wide summary data...\n",
      "Loading latest neighborhood summary data...\n",
      "DONE! NYC, Manhattan, and Lincoln Square\n"
     ]
    }
   ],
   "source": [
    "# Stream the CSVs into basic dataframes\n",
    "import pandas as pd\n",
    "\n",
    "# Case Rate\n",
    "print(\"Loading case rate data...\")\n",
    "case_rate_df = pd.read_csv(CASE_RATE_URL + \"?raw=true\") # To get the actual data, not the github page\n",
    "case_rate_df = case_rate_df[['week_ending', 'CASERATE_CITY', 'CASERATE_'+BOROUGH, 'CASERATE_'+CTA]]\n",
    "\n",
    "\n",
    "# Test Rate\n",
    "print(\"Loading test rate data...\")\n",
    "test_rate_df = pd.read_csv(TEST_RATE_URL + \"?raw=true\")\n",
    "test_rate_df = test_rate_df[['week_ending', 'TESTRATE_CITY', 'TESTRATE_'+BOROUGH, 'TESTRATE_'+CTA]]\n",
    "\n",
    "# Percentage Positive Rate\n",
    "print(\"Loading percentage positive data...\")\n",
    "pct_pos_df = pd.read_csv(PCT_POS_URL + \"?raw=true\") \n",
    "pct_pos_df = pct_pos_df[['week_ending', 'PCTPOS_CITY', 'PCTPOS_'+BOROUGH, 'PCTPOS_'+CTA]]\n",
    "\n",
    "# Latest city-wide\n",
    "# This data set has a different shape. It is just a simple summary\n",
    "print(\"Loading latest city-wide summary data...\")\n",
    "latest_nyc = pd.read_csv(LATEST_CITY_URL + \"?raw=true\")\n",
    "\n",
    "# Latest 7 Days.\n",
    "# This data set too has a different shape. It is just a simple summary\n",
    "print(\"Loading latest neighborhood summary data...\")\n",
    "latest_cta = pd.read_csv(LATEST_CTA_URL + \"?raw=true\")\n",
    "latest_cta = latest_cta[latest_cta['modzcta'] == int(CTA)].transpose() # The CTA in the CSV gets cast as an int\n",
    "cta_name = list(latest_cta.iloc[1])[0]\n",
    "print(\"DONE! NYC, Manhattan, and %s\" % cta_name)"
   ]
  },
  {
   "cell_type": "markdown",
   "metadata": {},
   "source": [
    "## Simple Exploration\n",
    "Let's just take a simple exploration of the data to figure out what we want to do next.\n",
    "\n",
    "I will start with the latest snapshots (the simplest data)..."
   ]
  },
  {
   "cell_type": "code",
   "execution_count": 21,
   "metadata": {},
   "outputs": [
    {
     "data": {
      "text/html": [
       "<div>\n",
       "<style scoped>\n",
       "    .dataframe tbody tr th:only-of-type {\n",
       "        vertical-align: middle;\n",
       "    }\n",
       "\n",
       "    .dataframe tbody tr th {\n",
       "        vertical-align: top;\n",
       "    }\n",
       "\n",
       "    .dataframe thead th {\n",
       "        text-align: right;\n",
       "    }\n",
       "</style>\n",
       "<table border=\"1\" class=\"dataframe\">\n",
       "  <thead>\n",
       "    <tr style=\"text-align: right;\">\n",
       "      <th></th>\n",
       "      <th>MEASURE</th>\n",
       "      <th>LAST_7_DAY</th>\n",
       "      <th>WEEKLY_AVG_LAST_4_WKS</th>\n",
       "      <th>TOTAL</th>\n",
       "    </tr>\n",
       "  </thead>\n",
       "  <tbody>\n",
       "    <tr>\n",
       "      <th>0</th>\n",
       "      <td>Percent Positivity</td>\n",
       "      <td>5.37</td>\n",
       "      <td>6.42</td>\n",
       "      <td>NaN</td>\n",
       "    </tr>\n",
       "    <tr>\n",
       "      <th>1</th>\n",
       "      <td>Cases</td>\n",
       "      <td>14157.00</td>\n",
       "      <td>18391.00</td>\n",
       "      <td>740785.0</td>\n",
       "    </tr>\n",
       "    <tr>\n",
       "      <th>2</th>\n",
       "      <td>Probable Cases</td>\n",
       "      <td>5831.00</td>\n",
       "      <td>6664.00</td>\n",
       "      <td>155237.0</td>\n",
       "    </tr>\n",
       "    <tr>\n",
       "      <th>3</th>\n",
       "      <td>Total Cases</td>\n",
       "      <td>19988.00</td>\n",
       "      <td>25055.00</td>\n",
       "      <td>896022.0</td>\n",
       "    </tr>\n",
       "    <tr>\n",
       "      <th>4</th>\n",
       "      <td>Hospitalizations</td>\n",
       "      <td>1105.00</td>\n",
       "      <td>1589.00</td>\n",
       "      <td>103108.0</td>\n",
       "    </tr>\n",
       "    <tr>\n",
       "      <th>5</th>\n",
       "      <td>Confirmed Deaths</td>\n",
       "      <td>269.00</td>\n",
       "      <td>347.00</td>\n",
       "      <td>26920.0</td>\n",
       "    </tr>\n",
       "    <tr>\n",
       "      <th>6</th>\n",
       "      <td>Updated: April 15, at 1 p.m.</td>\n",
       "      <td>NaN</td>\n",
       "      <td>NaN</td>\n",
       "      <td>NaN</td>\n",
       "    </tr>\n",
       "  </tbody>\n",
       "</table>\n",
       "</div>"
      ],
      "text/plain": [
       "                        MEASURE  LAST_7_DAY  WEEKLY_AVG_LAST_4_WKS     TOTAL\n",
       "0            Percent Positivity        5.37                   6.42       NaN\n",
       "1                         Cases    14157.00               18391.00  740785.0\n",
       "2                Probable Cases     5831.00                6664.00  155237.0\n",
       "3                   Total Cases    19988.00               25055.00  896022.0\n",
       "4              Hospitalizations     1105.00                1589.00  103108.0\n",
       "5              Confirmed Deaths      269.00                 347.00   26920.0\n",
       "6  Updated: April 15, at 1 p.m.         NaN                    NaN       NaN"
      ]
     },
     "execution_count": 21,
     "metadata": {},
     "output_type": "execute_result"
    }
   ],
   "source": [
    "# Viewing the latest data for NYC\n",
    "latest_nyc"
   ]
  },
  {
   "cell_type": "code",
   "execution_count": 22,
   "metadata": {},
   "outputs": [
    {
     "data": {
      "text/html": [
       "<div>\n",
       "<style scoped>\n",
       "    .dataframe tbody tr th:only-of-type {\n",
       "        vertical-align: middle;\n",
       "    }\n",
       "\n",
       "    .dataframe tbody tr th {\n",
       "        vertical-align: top;\n",
       "    }\n",
       "\n",
       "    .dataframe thead th {\n",
       "        text-align: right;\n",
       "    }\n",
       "</style>\n",
       "<table border=\"1\" class=\"dataframe\">\n",
       "  <thead>\n",
       "    <tr style=\"text-align: right;\">\n",
       "      <th></th>\n",
       "      <th>39</th>\n",
       "    </tr>\n",
       "  </thead>\n",
       "  <tbody>\n",
       "    <tr>\n",
       "      <th>modzcta</th>\n",
       "      <td>10069</td>\n",
       "    </tr>\n",
       "    <tr>\n",
       "      <th>modzcta_name</th>\n",
       "      <td>Lincoln Square</td>\n",
       "    </tr>\n",
       "    <tr>\n",
       "      <th>label</th>\n",
       "      <td>10069</td>\n",
       "    </tr>\n",
       "    <tr>\n",
       "      <th>lat</th>\n",
       "      <td>40.7759</td>\n",
       "    </tr>\n",
       "    <tr>\n",
       "      <th>lon</th>\n",
       "      <td>-73.9903</td>\n",
       "    </tr>\n",
       "    <tr>\n",
       "      <th>percentpositivity_7day</th>\n",
       "      <td>3.58</td>\n",
       "    </tr>\n",
       "    <tr>\n",
       "      <th>people_tested</th>\n",
       "      <td>363</td>\n",
       "    </tr>\n",
       "    <tr>\n",
       "      <th>people_positive</th>\n",
       "      <td>13</td>\n",
       "    </tr>\n",
       "    <tr>\n",
       "      <th>median_daily_test_rate</th>\n",
       "      <td>986.5</td>\n",
       "    </tr>\n",
       "    <tr>\n",
       "      <th>adequately_tested</th>\n",
       "      <td>Yes</td>\n",
       "    </tr>\n",
       "    <tr>\n",
       "      <th>daterange</th>\n",
       "      <td>April 6-April 12</td>\n",
       "    </tr>\n",
       "  </tbody>\n",
       "</table>\n",
       "</div>"
      ],
      "text/plain": [
       "                                      39\n",
       "modzcta                            10069\n",
       "modzcta_name              Lincoln Square\n",
       "label                              10069\n",
       "lat                              40.7759\n",
       "lon                             -73.9903\n",
       "percentpositivity_7day              3.58\n",
       "people_tested                        363\n",
       "people_positive                       13\n",
       "median_daily_test_rate             986.5\n",
       "adequately_tested                    Yes\n",
       "daterange               April 6-April 12"
      ]
     },
     "execution_count": 22,
     "metadata": {},
     "output_type": "execute_result"
    }
   ],
   "source": [
    "# And the neighborhood\n",
    "latest_cta"
   ]
  },
  {
   "cell_type": "markdown",
   "metadata": {},
   "source": [
    "Now I will look at the trend data. This may lead to the actual reports I wanted to get online. I will compare the local CTA to the rest of Manhattan and NYC.\n",
    "\n",
    "> **NOTE: All of these data sets are scaled per 100K people. This makes them very easy to compare**"
   ]
  },
  {
   "cell_type": "code",
   "execution_count": 23,
   "metadata": {},
   "outputs": [
    {
     "data": {
      "text/html": [
       "<div>\n",
       "<style scoped>\n",
       "    .dataframe tbody tr th:only-of-type {\n",
       "        vertical-align: middle;\n",
       "    }\n",
       "\n",
       "    .dataframe tbody tr th {\n",
       "        vertical-align: top;\n",
       "    }\n",
       "\n",
       "    .dataframe thead th {\n",
       "        text-align: right;\n",
       "    }\n",
       "</style>\n",
       "<table border=\"1\" class=\"dataframe\">\n",
       "  <thead>\n",
       "    <tr style=\"text-align: right;\">\n",
       "      <th></th>\n",
       "      <th>week_ending</th>\n",
       "      <th>CASERATE_CITY</th>\n",
       "      <th>CASERATE_MN</th>\n",
       "      <th>CASERATE_10069</th>\n",
       "    </tr>\n",
       "  </thead>\n",
       "  <tbody>\n",
       "    <tr>\n",
       "      <th>29</th>\n",
       "      <td>02/27/2021</td>\n",
       "      <td>250.74</td>\n",
       "      <td>192.85</td>\n",
       "      <td>111.38</td>\n",
       "    </tr>\n",
       "    <tr>\n",
       "      <th>30</th>\n",
       "      <td>03/06/2021</td>\n",
       "      <td>233.59</td>\n",
       "      <td>173.76</td>\n",
       "      <td>222.77</td>\n",
       "    </tr>\n",
       "    <tr>\n",
       "      <th>31</th>\n",
       "      <td>03/13/2021</td>\n",
       "      <td>234.95</td>\n",
       "      <td>178.36</td>\n",
       "      <td>127.30</td>\n",
       "    </tr>\n",
       "    <tr>\n",
       "      <th>32</th>\n",
       "      <td>03/20/2021</td>\n",
       "      <td>228.25</td>\n",
       "      <td>165.96</td>\n",
       "      <td>111.38</td>\n",
       "    </tr>\n",
       "    <tr>\n",
       "      <th>33</th>\n",
       "      <td>03/27/2021</td>\n",
       "      <td>251.49</td>\n",
       "      <td>181.98</td>\n",
       "      <td>95.47</td>\n",
       "    </tr>\n",
       "    <tr>\n",
       "      <th>34</th>\n",
       "      <td>04/03/2021</td>\n",
       "      <td>215.75</td>\n",
       "      <td>157.49</td>\n",
       "      <td>95.47</td>\n",
       "    </tr>\n",
       "    <tr>\n",
       "      <th>35</th>\n",
       "      <td>04/10/2021</td>\n",
       "      <td>184.58</td>\n",
       "      <td>128.81</td>\n",
       "      <td>206.86</td>\n",
       "    </tr>\n",
       "  </tbody>\n",
       "</table>\n",
       "</div>"
      ],
      "text/plain": [
       "   week_ending  CASERATE_CITY  CASERATE_MN  CASERATE_10069\n",
       "29  02/27/2021         250.74       192.85          111.38\n",
       "30  03/06/2021         233.59       173.76          222.77\n",
       "31  03/13/2021         234.95       178.36          127.30\n",
       "32  03/20/2021         228.25       165.96          111.38\n",
       "33  03/27/2021         251.49       181.98           95.47\n",
       "34  04/03/2021         215.75       157.49           95.47\n",
       "35  04/10/2021         184.58       128.81          206.86"
      ]
     },
     "execution_count": 23,
     "metadata": {},
     "output_type": "execute_result"
    }
   ],
   "source": [
    "# Look at the case rate by week\n",
    "case_rate_df.tail(7)"
   ]
  },
  {
   "cell_type": "code",
   "execution_count": 24,
   "metadata": {},
   "outputs": [
    {
     "data": {
      "text/html": [
       "<div>\n",
       "<style scoped>\n",
       "    .dataframe tbody tr th:only-of-type {\n",
       "        vertical-align: middle;\n",
       "    }\n",
       "\n",
       "    .dataframe tbody tr th {\n",
       "        vertical-align: top;\n",
       "    }\n",
       "\n",
       "    .dataframe thead th {\n",
       "        text-align: right;\n",
       "    }\n",
       "</style>\n",
       "<table border=\"1\" class=\"dataframe\">\n",
       "  <thead>\n",
       "    <tr style=\"text-align: right;\">\n",
       "      <th></th>\n",
       "      <th>week_ending</th>\n",
       "      <th>TESTRATE_CITY</th>\n",
       "      <th>TESTRATE_MN</th>\n",
       "      <th>TESTRATE_10069</th>\n",
       "    </tr>\n",
       "  </thead>\n",
       "  <tbody>\n",
       "    <tr>\n",
       "      <th>29</th>\n",
       "      <td>02/27/2021</td>\n",
       "      <td>5214.11</td>\n",
       "      <td>6592.04</td>\n",
       "      <td>7574.11</td>\n",
       "    </tr>\n",
       "    <tr>\n",
       "      <th>30</th>\n",
       "      <td>03/06/2021</td>\n",
       "      <td>4878.01</td>\n",
       "      <td>6031.29</td>\n",
       "      <td>7001.28</td>\n",
       "    </tr>\n",
       "    <tr>\n",
       "      <th>31</th>\n",
       "      <td>03/13/2021</td>\n",
       "      <td>4826.79</td>\n",
       "      <td>5996.85</td>\n",
       "      <td>7112.66</td>\n",
       "    </tr>\n",
       "    <tr>\n",
       "      <th>32</th>\n",
       "      <td>03/20/2021</td>\n",
       "      <td>4740.98</td>\n",
       "      <td>5782.87</td>\n",
       "      <td>7192.22</td>\n",
       "    </tr>\n",
       "    <tr>\n",
       "      <th>33</th>\n",
       "      <td>03/27/2021</td>\n",
       "      <td>5050.04</td>\n",
       "      <td>5822.72</td>\n",
       "      <td>6094.30</td>\n",
       "    </tr>\n",
       "    <tr>\n",
       "      <th>34</th>\n",
       "      <td>04/03/2021</td>\n",
       "      <td>4407.81</td>\n",
       "      <td>5390.35</td>\n",
       "      <td>6539.83</td>\n",
       "    </tr>\n",
       "    <tr>\n",
       "      <th>35</th>\n",
       "      <td>04/10/2021</td>\n",
       "      <td>4822.26</td>\n",
       "      <td>5682.49</td>\n",
       "      <td>7574.11</td>\n",
       "    </tr>\n",
       "  </tbody>\n",
       "</table>\n",
       "</div>"
      ],
      "text/plain": [
       "   week_ending  TESTRATE_CITY  TESTRATE_MN  TESTRATE_10069\n",
       "29  02/27/2021        5214.11      6592.04         7574.11\n",
       "30  03/06/2021        4878.01      6031.29         7001.28\n",
       "31  03/13/2021        4826.79      5996.85         7112.66\n",
       "32  03/20/2021        4740.98      5782.87         7192.22\n",
       "33  03/27/2021        5050.04      5822.72         6094.30\n",
       "34  04/03/2021        4407.81      5390.35         6539.83\n",
       "35  04/10/2021        4822.26      5682.49         7574.11"
      ]
     },
     "execution_count": 24,
     "metadata": {},
     "output_type": "execute_result"
    }
   ],
   "source": [
    "# Look at the testing rate by week\n",
    "test_rate_df.tail(7)"
   ]
  },
  {
   "cell_type": "code",
   "execution_count": 25,
   "metadata": {},
   "outputs": [
    {
     "data": {
      "text/html": [
       "<div>\n",
       "<style scoped>\n",
       "    .dataframe tbody tr th:only-of-type {\n",
       "        vertical-align: middle;\n",
       "    }\n",
       "\n",
       "    .dataframe tbody tr th {\n",
       "        vertical-align: top;\n",
       "    }\n",
       "\n",
       "    .dataframe thead th {\n",
       "        text-align: right;\n",
       "    }\n",
       "</style>\n",
       "<table border=\"1\" class=\"dataframe\">\n",
       "  <thead>\n",
       "    <tr style=\"text-align: right;\">\n",
       "      <th></th>\n",
       "      <th>week_ending</th>\n",
       "      <th>PCTPOS_CITY</th>\n",
       "      <th>PCTPOS_MN</th>\n",
       "      <th>PCTPOS_10069</th>\n",
       "    </tr>\n",
       "  </thead>\n",
       "  <tbody>\n",
       "    <tr>\n",
       "      <th>29</th>\n",
       "      <td>02/27/2021</td>\n",
       "      <td>6.69</td>\n",
       "      <td>3.79</td>\n",
       "      <td>2.94</td>\n",
       "    </tr>\n",
       "    <tr>\n",
       "      <th>30</th>\n",
       "      <td>03/06/2021</td>\n",
       "      <td>6.65</td>\n",
       "      <td>3.80</td>\n",
       "      <td>3.64</td>\n",
       "    </tr>\n",
       "    <tr>\n",
       "      <th>31</th>\n",
       "      <td>03/13/2021</td>\n",
       "      <td>6.67</td>\n",
       "      <td>3.87</td>\n",
       "      <td>2.46</td>\n",
       "    </tr>\n",
       "    <tr>\n",
       "      <th>32</th>\n",
       "      <td>03/20/2021</td>\n",
       "      <td>6.60</td>\n",
       "      <td>3.73</td>\n",
       "      <td>2.21</td>\n",
       "    </tr>\n",
       "    <tr>\n",
       "      <th>33</th>\n",
       "      <td>03/27/2021</td>\n",
       "      <td>6.79</td>\n",
       "      <td>4.04</td>\n",
       "      <td>1.57</td>\n",
       "    </tr>\n",
       "    <tr>\n",
       "      <th>34</th>\n",
       "      <td>04/03/2021</td>\n",
       "      <td>7.00</td>\n",
       "      <td>3.87</td>\n",
       "      <td>2.19</td>\n",
       "    </tr>\n",
       "    <tr>\n",
       "      <th>35</th>\n",
       "      <td>04/10/2021</td>\n",
       "      <td>5.54</td>\n",
       "      <td>3.04</td>\n",
       "      <td>2.94</td>\n",
       "    </tr>\n",
       "  </tbody>\n",
       "</table>\n",
       "</div>"
      ],
      "text/plain": [
       "   week_ending  PCTPOS_CITY  PCTPOS_MN  PCTPOS_10069\n",
       "29  02/27/2021         6.69       3.79          2.94\n",
       "30  03/06/2021         6.65       3.80          3.64\n",
       "31  03/13/2021         6.67       3.87          2.46\n",
       "32  03/20/2021         6.60       3.73          2.21\n",
       "33  03/27/2021         6.79       4.04          1.57\n",
       "34  04/03/2021         7.00       3.87          2.19\n",
       "35  04/10/2021         5.54       3.04          2.94"
      ]
     },
     "execution_count": 25,
     "metadata": {},
     "output_type": "execute_result"
    }
   ],
   "source": [
    "# And now look at the percentage positive rate by week\n",
    "pct_pos_df.tail(7)"
   ]
  },
  {
   "cell_type": "markdown",
   "metadata": {},
   "source": [
    "## Visualising the Data\n",
    "The `case_rate_df` data looks like it is the most variable in terms of trend analysis. Let's create a visualisation, one similar to what I would find at a `state` or `country` level."
   ]
  },
  {
   "cell_type": "code",
   "execution_count": 26,
   "metadata": {},
   "outputs": [
    {
     "data": {
      "application/vnd.plotly.v1+json": {
       "config": {
        "plotlyServerURL": "https://plot.ly"
       },
       "data": [
        {
         "hovertemplate": "variable=CASERATE_CITY<br>week_ending=%{x}<br>value=%{y}<extra></extra>",
         "legendgroup": "CASERATE_CITY",
         "line": {
          "color": "#636efa",
          "dash": "solid"
         },
         "mode": "lines",
         "name": "CASERATE_CITY",
         "orientation": "v",
         "showlegend": true,
         "type": "scatter",
         "x": [
          "08/08/2020",
          "08/15/2020",
          "08/22/2020",
          "08/29/2020",
          "09/05/2020",
          "09/12/2020",
          "09/19/2020",
          "09/26/2020",
          "10/03/2020",
          "10/10/2020",
          "10/17/2020",
          "10/24/2020",
          "10/31/2020",
          "11/07/2020",
          "11/14/2020",
          "11/21/2020",
          "11/28/2020",
          "12/05/2020",
          "12/12/2020",
          "12/19/2020",
          "12/26/2020",
          "01/02/2021",
          "01/09/2021",
          "01/16/2021",
          "01/23/2021",
          "01/30/2021",
          "02/06/2021",
          "02/13/2021",
          "02/20/2021",
          "02/27/2021",
          "03/06/2021",
          "03/13/2021",
          "03/20/2021",
          "03/27/2021",
          "04/03/2021",
          "04/10/2021"
         ],
         "xaxis": "x",
         "y": [
          19.05,
          20.06,
          18.76,
          19.68,
          19.96,
          23.34,
          25.62,
          32.94,
          41.99,
          42.11,
          40.22,
          47.31,
          49.8,
          75.72,
          111.81,
          130.24,
          149.89,
          213.29,
          228.72,
          234.27,
          256.62,
          318.11,
          421.44,
          383.48,
          353.84,
          338.71,
          276.69,
          261.11,
          225.71,
          250.74,
          233.59,
          234.95,
          228.25,
          251.49,
          215.75,
          184.58
         ],
         "yaxis": "y"
        },
        {
         "hovertemplate": "variable=CASERATE_MN<br>week_ending=%{x}<br>value=%{y}<extra></extra>",
         "legendgroup": "CASERATE_MN",
         "line": {
          "color": "#EF553B",
          "dash": "solid"
         },
         "mode": "lines",
         "name": "CASERATE_MN",
         "orientation": "v",
         "showlegend": true,
         "type": "scatter",
         "x": [
          "08/08/2020",
          "08/15/2020",
          "08/22/2020",
          "08/29/2020",
          "09/05/2020",
          "09/12/2020",
          "09/19/2020",
          "09/26/2020",
          "10/03/2020",
          "10/10/2020",
          "10/17/2020",
          "10/24/2020",
          "10/31/2020",
          "11/07/2020",
          "11/14/2020",
          "11/21/2020",
          "11/28/2020",
          "12/05/2020",
          "12/12/2020",
          "12/19/2020",
          "12/26/2020",
          "01/02/2021",
          "01/09/2021",
          "01/16/2021",
          "01/23/2021",
          "01/30/2021",
          "02/06/2021",
          "02/13/2021",
          "02/20/2021",
          "02/27/2021",
          "03/06/2021",
          "03/13/2021",
          "03/20/2021",
          "03/27/2021",
          "04/03/2021",
          "04/10/2021"
         ],
         "xaxis": "x",
         "y": [
          15.96,
          15.84,
          17.74,
          16.7,
          15.72,
          20.26,
          19.65,
          21.61,
          27.94,
          28.06,
          32.6,
          37.45,
          41.32,
          65.45,
          103.89,
          116.29,
          126.85,
          153.74,
          169.95,
          175.42,
          174.19,
          196.05,
          294.22,
          260.15,
          254.86,
          244.49,
          202.92,
          192.36,
          176.77,
          192.85,
          173.76,
          178.36,
          165.96,
          181.98,
          157.49,
          128.81
         ],
         "yaxis": "y"
        },
        {
         "hovertemplate": "variable=CASERATE_10069<br>week_ending=%{x}<br>value=%{y}<extra></extra>",
         "legendgroup": "CASERATE_10069",
         "line": {
          "color": "#00cc96",
          "dash": "solid"
         },
         "mode": "lines",
         "name": "CASERATE_10069",
         "orientation": "v",
         "showlegend": true,
         "type": "scatter",
         "x": [
          "08/08/2020",
          "08/15/2020",
          "08/22/2020",
          "08/29/2020",
          "09/05/2020",
          "09/12/2020",
          "09/19/2020",
          "09/26/2020",
          "10/03/2020",
          "10/10/2020",
          "10/17/2020",
          "10/24/2020",
          "10/31/2020",
          "11/07/2020",
          "11/14/2020",
          "11/21/2020",
          "11/28/2020",
          "12/05/2020",
          "12/12/2020",
          "12/19/2020",
          "12/26/2020",
          "01/02/2021",
          "01/09/2021",
          "01/16/2021",
          "01/23/2021",
          "01/30/2021",
          "02/06/2021",
          "02/13/2021",
          "02/20/2021",
          "02/27/2021",
          "03/06/2021",
          "03/13/2021",
          "03/20/2021",
          "03/27/2021",
          "04/03/2021",
          "04/10/2021"
         ],
         "xaxis": "x",
         "y": [
          31.82,
          15.91,
          15.91,
          31.82,
          0,
          0,
          15.91,
          15.91,
          47.74,
          0,
          79.56,
          63.65,
          15.91,
          190.94,
          79.56,
          159.12,
          190.94,
          159.12,
          286.42,
          95.47,
          222.77,
          254.59,
          397.8,
          302.33,
          270.5,
          206.86,
          318.24,
          175.03,
          143.21,
          111.38,
          222.77,
          127.3,
          111.38,
          95.47,
          95.47,
          206.86
         ],
         "yaxis": "y"
        }
       ],
       "layout": {
        "legend": {
         "title": {
          "text": "Jurisdiction"
         },
         "tracegroupgap": 0
        },
        "margin": {
         "t": 60
        },
        "template": {
         "data": {
          "bar": [
           {
            "error_x": {
             "color": "#2a3f5f"
            },
            "error_y": {
             "color": "#2a3f5f"
            },
            "marker": {
             "line": {
              "color": "#E5ECF6",
              "width": 0.5
             }
            },
            "type": "bar"
           }
          ],
          "barpolar": [
           {
            "marker": {
             "line": {
              "color": "#E5ECF6",
              "width": 0.5
             }
            },
            "type": "barpolar"
           }
          ],
          "carpet": [
           {
            "aaxis": {
             "endlinecolor": "#2a3f5f",
             "gridcolor": "white",
             "linecolor": "white",
             "minorgridcolor": "white",
             "startlinecolor": "#2a3f5f"
            },
            "baxis": {
             "endlinecolor": "#2a3f5f",
             "gridcolor": "white",
             "linecolor": "white",
             "minorgridcolor": "white",
             "startlinecolor": "#2a3f5f"
            },
            "type": "carpet"
           }
          ],
          "choropleth": [
           {
            "colorbar": {
             "outlinewidth": 0,
             "ticks": ""
            },
            "type": "choropleth"
           }
          ],
          "contour": [
           {
            "colorbar": {
             "outlinewidth": 0,
             "ticks": ""
            },
            "colorscale": [
             [
              0,
              "#0d0887"
             ],
             [
              0.1111111111111111,
              "#46039f"
             ],
             [
              0.2222222222222222,
              "#7201a8"
             ],
             [
              0.3333333333333333,
              "#9c179e"
             ],
             [
              0.4444444444444444,
              "#bd3786"
             ],
             [
              0.5555555555555556,
              "#d8576b"
             ],
             [
              0.6666666666666666,
              "#ed7953"
             ],
             [
              0.7777777777777778,
              "#fb9f3a"
             ],
             [
              0.8888888888888888,
              "#fdca26"
             ],
             [
              1,
              "#f0f921"
             ]
            ],
            "type": "contour"
           }
          ],
          "contourcarpet": [
           {
            "colorbar": {
             "outlinewidth": 0,
             "ticks": ""
            },
            "type": "contourcarpet"
           }
          ],
          "heatmap": [
           {
            "colorbar": {
             "outlinewidth": 0,
             "ticks": ""
            },
            "colorscale": [
             [
              0,
              "#0d0887"
             ],
             [
              0.1111111111111111,
              "#46039f"
             ],
             [
              0.2222222222222222,
              "#7201a8"
             ],
             [
              0.3333333333333333,
              "#9c179e"
             ],
             [
              0.4444444444444444,
              "#bd3786"
             ],
             [
              0.5555555555555556,
              "#d8576b"
             ],
             [
              0.6666666666666666,
              "#ed7953"
             ],
             [
              0.7777777777777778,
              "#fb9f3a"
             ],
             [
              0.8888888888888888,
              "#fdca26"
             ],
             [
              1,
              "#f0f921"
             ]
            ],
            "type": "heatmap"
           }
          ],
          "heatmapgl": [
           {
            "colorbar": {
             "outlinewidth": 0,
             "ticks": ""
            },
            "colorscale": [
             [
              0,
              "#0d0887"
             ],
             [
              0.1111111111111111,
              "#46039f"
             ],
             [
              0.2222222222222222,
              "#7201a8"
             ],
             [
              0.3333333333333333,
              "#9c179e"
             ],
             [
              0.4444444444444444,
              "#bd3786"
             ],
             [
              0.5555555555555556,
              "#d8576b"
             ],
             [
              0.6666666666666666,
              "#ed7953"
             ],
             [
              0.7777777777777778,
              "#fb9f3a"
             ],
             [
              0.8888888888888888,
              "#fdca26"
             ],
             [
              1,
              "#f0f921"
             ]
            ],
            "type": "heatmapgl"
           }
          ],
          "histogram": [
           {
            "marker": {
             "colorbar": {
              "outlinewidth": 0,
              "ticks": ""
             }
            },
            "type": "histogram"
           }
          ],
          "histogram2d": [
           {
            "colorbar": {
             "outlinewidth": 0,
             "ticks": ""
            },
            "colorscale": [
             [
              0,
              "#0d0887"
             ],
             [
              0.1111111111111111,
              "#46039f"
             ],
             [
              0.2222222222222222,
              "#7201a8"
             ],
             [
              0.3333333333333333,
              "#9c179e"
             ],
             [
              0.4444444444444444,
              "#bd3786"
             ],
             [
              0.5555555555555556,
              "#d8576b"
             ],
             [
              0.6666666666666666,
              "#ed7953"
             ],
             [
              0.7777777777777778,
              "#fb9f3a"
             ],
             [
              0.8888888888888888,
              "#fdca26"
             ],
             [
              1,
              "#f0f921"
             ]
            ],
            "type": "histogram2d"
           }
          ],
          "histogram2dcontour": [
           {
            "colorbar": {
             "outlinewidth": 0,
             "ticks": ""
            },
            "colorscale": [
             [
              0,
              "#0d0887"
             ],
             [
              0.1111111111111111,
              "#46039f"
             ],
             [
              0.2222222222222222,
              "#7201a8"
             ],
             [
              0.3333333333333333,
              "#9c179e"
             ],
             [
              0.4444444444444444,
              "#bd3786"
             ],
             [
              0.5555555555555556,
              "#d8576b"
             ],
             [
              0.6666666666666666,
              "#ed7953"
             ],
             [
              0.7777777777777778,
              "#fb9f3a"
             ],
             [
              0.8888888888888888,
              "#fdca26"
             ],
             [
              1,
              "#f0f921"
             ]
            ],
            "type": "histogram2dcontour"
           }
          ],
          "mesh3d": [
           {
            "colorbar": {
             "outlinewidth": 0,
             "ticks": ""
            },
            "type": "mesh3d"
           }
          ],
          "parcoords": [
           {
            "line": {
             "colorbar": {
              "outlinewidth": 0,
              "ticks": ""
             }
            },
            "type": "parcoords"
           }
          ],
          "pie": [
           {
            "automargin": true,
            "type": "pie"
           }
          ],
          "scatter": [
           {
            "marker": {
             "colorbar": {
              "outlinewidth": 0,
              "ticks": ""
             }
            },
            "type": "scatter"
           }
          ],
          "scatter3d": [
           {
            "line": {
             "colorbar": {
              "outlinewidth": 0,
              "ticks": ""
             }
            },
            "marker": {
             "colorbar": {
              "outlinewidth": 0,
              "ticks": ""
             }
            },
            "type": "scatter3d"
           }
          ],
          "scattercarpet": [
           {
            "marker": {
             "colorbar": {
              "outlinewidth": 0,
              "ticks": ""
             }
            },
            "type": "scattercarpet"
           }
          ],
          "scattergeo": [
           {
            "marker": {
             "colorbar": {
              "outlinewidth": 0,
              "ticks": ""
             }
            },
            "type": "scattergeo"
           }
          ],
          "scattergl": [
           {
            "marker": {
             "colorbar": {
              "outlinewidth": 0,
              "ticks": ""
             }
            },
            "type": "scattergl"
           }
          ],
          "scattermapbox": [
           {
            "marker": {
             "colorbar": {
              "outlinewidth": 0,
              "ticks": ""
             }
            },
            "type": "scattermapbox"
           }
          ],
          "scatterpolar": [
           {
            "marker": {
             "colorbar": {
              "outlinewidth": 0,
              "ticks": ""
             }
            },
            "type": "scatterpolar"
           }
          ],
          "scatterpolargl": [
           {
            "marker": {
             "colorbar": {
              "outlinewidth": 0,
              "ticks": ""
             }
            },
            "type": "scatterpolargl"
           }
          ],
          "scatterternary": [
           {
            "marker": {
             "colorbar": {
              "outlinewidth": 0,
              "ticks": ""
             }
            },
            "type": "scatterternary"
           }
          ],
          "surface": [
           {
            "colorbar": {
             "outlinewidth": 0,
             "ticks": ""
            },
            "colorscale": [
             [
              0,
              "#0d0887"
             ],
             [
              0.1111111111111111,
              "#46039f"
             ],
             [
              0.2222222222222222,
              "#7201a8"
             ],
             [
              0.3333333333333333,
              "#9c179e"
             ],
             [
              0.4444444444444444,
              "#bd3786"
             ],
             [
              0.5555555555555556,
              "#d8576b"
             ],
             [
              0.6666666666666666,
              "#ed7953"
             ],
             [
              0.7777777777777778,
              "#fb9f3a"
             ],
             [
              0.8888888888888888,
              "#fdca26"
             ],
             [
              1,
              "#f0f921"
             ]
            ],
            "type": "surface"
           }
          ],
          "table": [
           {
            "cells": {
             "fill": {
              "color": "#EBF0F8"
             },
             "line": {
              "color": "white"
             }
            },
            "header": {
             "fill": {
              "color": "#C8D4E3"
             },
             "line": {
              "color": "white"
             }
            },
            "type": "table"
           }
          ]
         },
         "layout": {
          "annotationdefaults": {
           "arrowcolor": "#2a3f5f",
           "arrowhead": 0,
           "arrowwidth": 1
          },
          "coloraxis": {
           "colorbar": {
            "outlinewidth": 0,
            "ticks": ""
           }
          },
          "colorscale": {
           "diverging": [
            [
             0,
             "#8e0152"
            ],
            [
             0.1,
             "#c51b7d"
            ],
            [
             0.2,
             "#de77ae"
            ],
            [
             0.3,
             "#f1b6da"
            ],
            [
             0.4,
             "#fde0ef"
            ],
            [
             0.5,
             "#f7f7f7"
            ],
            [
             0.6,
             "#e6f5d0"
            ],
            [
             0.7,
             "#b8e186"
            ],
            [
             0.8,
             "#7fbc41"
            ],
            [
             0.9,
             "#4d9221"
            ],
            [
             1,
             "#276419"
            ]
           ],
           "sequential": [
            [
             0,
             "#0d0887"
            ],
            [
             0.1111111111111111,
             "#46039f"
            ],
            [
             0.2222222222222222,
             "#7201a8"
            ],
            [
             0.3333333333333333,
             "#9c179e"
            ],
            [
             0.4444444444444444,
             "#bd3786"
            ],
            [
             0.5555555555555556,
             "#d8576b"
            ],
            [
             0.6666666666666666,
             "#ed7953"
            ],
            [
             0.7777777777777778,
             "#fb9f3a"
            ],
            [
             0.8888888888888888,
             "#fdca26"
            ],
            [
             1,
             "#f0f921"
            ]
           ],
           "sequentialminus": [
            [
             0,
             "#0d0887"
            ],
            [
             0.1111111111111111,
             "#46039f"
            ],
            [
             0.2222222222222222,
             "#7201a8"
            ],
            [
             0.3333333333333333,
             "#9c179e"
            ],
            [
             0.4444444444444444,
             "#bd3786"
            ],
            [
             0.5555555555555556,
             "#d8576b"
            ],
            [
             0.6666666666666666,
             "#ed7953"
            ],
            [
             0.7777777777777778,
             "#fb9f3a"
            ],
            [
             0.8888888888888888,
             "#fdca26"
            ],
            [
             1,
             "#f0f921"
            ]
           ]
          },
          "colorway": [
           "#636efa",
           "#EF553B",
           "#00cc96",
           "#ab63fa",
           "#FFA15A",
           "#19d3f3",
           "#FF6692",
           "#B6E880",
           "#FF97FF",
           "#FECB52"
          ],
          "font": {
           "color": "#2a3f5f"
          },
          "geo": {
           "bgcolor": "white",
           "lakecolor": "white",
           "landcolor": "#E5ECF6",
           "showlakes": true,
           "showland": true,
           "subunitcolor": "white"
          },
          "hoverlabel": {
           "align": "left"
          },
          "hovermode": "closest",
          "mapbox": {
           "style": "light"
          },
          "paper_bgcolor": "white",
          "plot_bgcolor": "#E5ECF6",
          "polar": {
           "angularaxis": {
            "gridcolor": "white",
            "linecolor": "white",
            "ticks": ""
           },
           "bgcolor": "#E5ECF6",
           "radialaxis": {
            "gridcolor": "white",
            "linecolor": "white",
            "ticks": ""
           }
          },
          "scene": {
           "xaxis": {
            "backgroundcolor": "#E5ECF6",
            "gridcolor": "white",
            "gridwidth": 2,
            "linecolor": "white",
            "showbackground": true,
            "ticks": "",
            "zerolinecolor": "white"
           },
           "yaxis": {
            "backgroundcolor": "#E5ECF6",
            "gridcolor": "white",
            "gridwidth": 2,
            "linecolor": "white",
            "showbackground": true,
            "ticks": "",
            "zerolinecolor": "white"
           },
           "zaxis": {
            "backgroundcolor": "#E5ECF6",
            "gridcolor": "white",
            "gridwidth": 2,
            "linecolor": "white",
            "showbackground": true,
            "ticks": "",
            "zerolinecolor": "white"
           }
          },
          "shapedefaults": {
           "line": {
            "color": "#2a3f5f"
           }
          },
          "ternary": {
           "aaxis": {
            "gridcolor": "white",
            "linecolor": "white",
            "ticks": ""
           },
           "baxis": {
            "gridcolor": "white",
            "linecolor": "white",
            "ticks": ""
           },
           "bgcolor": "#E5ECF6",
           "caxis": {
            "gridcolor": "white",
            "linecolor": "white",
            "ticks": ""
           }
          },
          "title": {
           "x": 0.05
          },
          "xaxis": {
           "automargin": true,
           "gridcolor": "white",
           "linecolor": "white",
           "ticks": "",
           "title": {
            "standoff": 15
           },
           "zerolinecolor": "white",
           "zerolinewidth": 2
          },
          "yaxis": {
           "automargin": true,
           "gridcolor": "white",
           "linecolor": "white",
           "ticks": "",
           "title": {
            "standoff": 15
           },
           "zerolinecolor": "white",
           "zerolinewidth": 2
          }
         }
        },
        "title": {
         "text": "COVID Case Rates: NYC vs. Manhattan vs. CTA"
        },
        "xaxis": {
         "anchor": "y",
         "domain": [
          0,
          1
         ],
         "title": {
          "text": "Week Ending"
         }
        },
        "yaxis": {
         "anchor": "x",
         "domain": [
          0,
          1
         ],
         "title": {
          "text": "Cases per 100K People"
         }
        }
       }
      },
      "text/html": [
       "<div>                            <div id=\"03380d19-30fa-42a6-b71d-bf330df7d1f3\" class=\"plotly-graph-div\" style=\"height:525px; width:100%;\"></div>            <script type=\"text/javascript\">                require([\"plotly\"], function(Plotly) {                    window.PLOTLYENV=window.PLOTLYENV || {};                                    if (document.getElementById(\"03380d19-30fa-42a6-b71d-bf330df7d1f3\")) {                    Plotly.newPlot(                        \"03380d19-30fa-42a6-b71d-bf330df7d1f3\",                        [{\"hovertemplate\": \"variable=CASERATE_CITY<br>week_ending=%{x}<br>value=%{y}<extra></extra>\", \"legendgroup\": \"CASERATE_CITY\", \"line\": {\"color\": \"#636efa\", \"dash\": \"solid\"}, \"mode\": \"lines\", \"name\": \"CASERATE_CITY\", \"orientation\": \"v\", \"showlegend\": true, \"type\": \"scatter\", \"x\": [\"08/08/2020\", \"08/15/2020\", \"08/22/2020\", \"08/29/2020\", \"09/05/2020\", \"09/12/2020\", \"09/19/2020\", \"09/26/2020\", \"10/03/2020\", \"10/10/2020\", \"10/17/2020\", \"10/24/2020\", \"10/31/2020\", \"11/07/2020\", \"11/14/2020\", \"11/21/2020\", \"11/28/2020\", \"12/05/2020\", \"12/12/2020\", \"12/19/2020\", \"12/26/2020\", \"01/02/2021\", \"01/09/2021\", \"01/16/2021\", \"01/23/2021\", \"01/30/2021\", \"02/06/2021\", \"02/13/2021\", \"02/20/2021\", \"02/27/2021\", \"03/06/2021\", \"03/13/2021\", \"03/20/2021\", \"03/27/2021\", \"04/03/2021\", \"04/10/2021\"], \"xaxis\": \"x\", \"y\": [19.05, 20.06, 18.76, 19.68, 19.96, 23.34, 25.62, 32.94, 41.99, 42.11, 40.22, 47.31, 49.8, 75.72, 111.81, 130.24, 149.89, 213.29, 228.72, 234.27, 256.62, 318.11, 421.44, 383.48, 353.84, 338.71, 276.69, 261.11, 225.71, 250.74, 233.59, 234.95, 228.25, 251.49, 215.75, 184.58], \"yaxis\": \"y\"}, {\"hovertemplate\": \"variable=CASERATE_MN<br>week_ending=%{x}<br>value=%{y}<extra></extra>\", \"legendgroup\": \"CASERATE_MN\", \"line\": {\"color\": \"#EF553B\", \"dash\": \"solid\"}, \"mode\": \"lines\", \"name\": \"CASERATE_MN\", \"orientation\": \"v\", \"showlegend\": true, \"type\": \"scatter\", \"x\": [\"08/08/2020\", \"08/15/2020\", \"08/22/2020\", \"08/29/2020\", \"09/05/2020\", \"09/12/2020\", \"09/19/2020\", \"09/26/2020\", \"10/03/2020\", \"10/10/2020\", \"10/17/2020\", \"10/24/2020\", \"10/31/2020\", \"11/07/2020\", \"11/14/2020\", \"11/21/2020\", \"11/28/2020\", \"12/05/2020\", \"12/12/2020\", \"12/19/2020\", \"12/26/2020\", \"01/02/2021\", \"01/09/2021\", \"01/16/2021\", \"01/23/2021\", \"01/30/2021\", \"02/06/2021\", \"02/13/2021\", \"02/20/2021\", \"02/27/2021\", \"03/06/2021\", \"03/13/2021\", \"03/20/2021\", \"03/27/2021\", \"04/03/2021\", \"04/10/2021\"], \"xaxis\": \"x\", \"y\": [15.96, 15.84, 17.74, 16.7, 15.72, 20.26, 19.65, 21.61, 27.94, 28.06, 32.6, 37.45, 41.32, 65.45, 103.89, 116.29, 126.85, 153.74, 169.95, 175.42, 174.19, 196.05, 294.22, 260.15, 254.86, 244.49, 202.92, 192.36, 176.77, 192.85, 173.76, 178.36, 165.96, 181.98, 157.49, 128.81], \"yaxis\": \"y\"}, {\"hovertemplate\": \"variable=CASERATE_10069<br>week_ending=%{x}<br>value=%{y}<extra></extra>\", \"legendgroup\": \"CASERATE_10069\", \"line\": {\"color\": \"#00cc96\", \"dash\": \"solid\"}, \"mode\": \"lines\", \"name\": \"CASERATE_10069\", \"orientation\": \"v\", \"showlegend\": true, \"type\": \"scatter\", \"x\": [\"08/08/2020\", \"08/15/2020\", \"08/22/2020\", \"08/29/2020\", \"09/05/2020\", \"09/12/2020\", \"09/19/2020\", \"09/26/2020\", \"10/03/2020\", \"10/10/2020\", \"10/17/2020\", \"10/24/2020\", \"10/31/2020\", \"11/07/2020\", \"11/14/2020\", \"11/21/2020\", \"11/28/2020\", \"12/05/2020\", \"12/12/2020\", \"12/19/2020\", \"12/26/2020\", \"01/02/2021\", \"01/09/2021\", \"01/16/2021\", \"01/23/2021\", \"01/30/2021\", \"02/06/2021\", \"02/13/2021\", \"02/20/2021\", \"02/27/2021\", \"03/06/2021\", \"03/13/2021\", \"03/20/2021\", \"03/27/2021\", \"04/03/2021\", \"04/10/2021\"], \"xaxis\": \"x\", \"y\": [31.82, 15.91, 15.91, 31.82, 0.0, 0.0, 15.91, 15.91, 47.74, 0.0, 79.56, 63.65, 15.91, 190.94, 79.56, 159.12, 190.94, 159.12, 286.42, 95.47, 222.77, 254.59, 397.8, 302.33, 270.5, 206.86, 318.24, 175.03, 143.21, 111.38, 222.77, 127.3, 111.38, 95.47, 95.47, 206.86], \"yaxis\": \"y\"}],                        {\"legend\": {\"title\": {\"text\": \"Jurisdiction\"}, \"tracegroupgap\": 0}, \"margin\": {\"t\": 60}, \"template\": {\"data\": {\"bar\": [{\"error_x\": {\"color\": \"#2a3f5f\"}, \"error_y\": {\"color\": \"#2a3f5f\"}, \"marker\": {\"line\": {\"color\": \"#E5ECF6\", \"width\": 0.5}}, \"type\": \"bar\"}], \"barpolar\": [{\"marker\": {\"line\": {\"color\": \"#E5ECF6\", \"width\": 0.5}}, \"type\": \"barpolar\"}], \"carpet\": [{\"aaxis\": {\"endlinecolor\": \"#2a3f5f\", \"gridcolor\": \"white\", \"linecolor\": \"white\", \"minorgridcolor\": \"white\", \"startlinecolor\": \"#2a3f5f\"}, \"baxis\": {\"endlinecolor\": \"#2a3f5f\", \"gridcolor\": \"white\", \"linecolor\": \"white\", \"minorgridcolor\": \"white\", \"startlinecolor\": \"#2a3f5f\"}, \"type\": \"carpet\"}], \"choropleth\": [{\"colorbar\": {\"outlinewidth\": 0, \"ticks\": \"\"}, \"type\": \"choropleth\"}], \"contour\": [{\"colorbar\": {\"outlinewidth\": 0, \"ticks\": \"\"}, \"colorscale\": [[0.0, \"#0d0887\"], [0.1111111111111111, \"#46039f\"], [0.2222222222222222, \"#7201a8\"], [0.3333333333333333, \"#9c179e\"], [0.4444444444444444, \"#bd3786\"], [0.5555555555555556, \"#d8576b\"], [0.6666666666666666, \"#ed7953\"], [0.7777777777777778, \"#fb9f3a\"], [0.8888888888888888, \"#fdca26\"], [1.0, \"#f0f921\"]], \"type\": \"contour\"}], \"contourcarpet\": [{\"colorbar\": {\"outlinewidth\": 0, \"ticks\": \"\"}, \"type\": \"contourcarpet\"}], \"heatmap\": [{\"colorbar\": {\"outlinewidth\": 0, \"ticks\": \"\"}, \"colorscale\": [[0.0, \"#0d0887\"], [0.1111111111111111, \"#46039f\"], [0.2222222222222222, \"#7201a8\"], [0.3333333333333333, \"#9c179e\"], [0.4444444444444444, \"#bd3786\"], [0.5555555555555556, \"#d8576b\"], [0.6666666666666666, \"#ed7953\"], [0.7777777777777778, \"#fb9f3a\"], [0.8888888888888888, \"#fdca26\"], [1.0, \"#f0f921\"]], \"type\": \"heatmap\"}], \"heatmapgl\": [{\"colorbar\": {\"outlinewidth\": 0, \"ticks\": \"\"}, \"colorscale\": [[0.0, \"#0d0887\"], [0.1111111111111111, \"#46039f\"], [0.2222222222222222, \"#7201a8\"], [0.3333333333333333, \"#9c179e\"], [0.4444444444444444, \"#bd3786\"], [0.5555555555555556, \"#d8576b\"], [0.6666666666666666, \"#ed7953\"], [0.7777777777777778, \"#fb9f3a\"], [0.8888888888888888, \"#fdca26\"], [1.0, \"#f0f921\"]], \"type\": \"heatmapgl\"}], \"histogram\": [{\"marker\": {\"colorbar\": {\"outlinewidth\": 0, \"ticks\": \"\"}}, \"type\": \"histogram\"}], \"histogram2d\": [{\"colorbar\": {\"outlinewidth\": 0, \"ticks\": \"\"}, \"colorscale\": [[0.0, \"#0d0887\"], [0.1111111111111111, \"#46039f\"], [0.2222222222222222, \"#7201a8\"], [0.3333333333333333, \"#9c179e\"], [0.4444444444444444, \"#bd3786\"], [0.5555555555555556, \"#d8576b\"], [0.6666666666666666, \"#ed7953\"], [0.7777777777777778, \"#fb9f3a\"], [0.8888888888888888, \"#fdca26\"], [1.0, \"#f0f921\"]], \"type\": \"histogram2d\"}], \"histogram2dcontour\": [{\"colorbar\": {\"outlinewidth\": 0, \"ticks\": \"\"}, \"colorscale\": [[0.0, \"#0d0887\"], [0.1111111111111111, \"#46039f\"], [0.2222222222222222, \"#7201a8\"], [0.3333333333333333, \"#9c179e\"], [0.4444444444444444, \"#bd3786\"], [0.5555555555555556, \"#d8576b\"], [0.6666666666666666, \"#ed7953\"], [0.7777777777777778, \"#fb9f3a\"], [0.8888888888888888, \"#fdca26\"], [1.0, \"#f0f921\"]], \"type\": \"histogram2dcontour\"}], \"mesh3d\": [{\"colorbar\": {\"outlinewidth\": 0, \"ticks\": \"\"}, \"type\": \"mesh3d\"}], \"parcoords\": [{\"line\": {\"colorbar\": {\"outlinewidth\": 0, \"ticks\": \"\"}}, \"type\": \"parcoords\"}], \"pie\": [{\"automargin\": true, \"type\": \"pie\"}], \"scatter\": [{\"marker\": {\"colorbar\": {\"outlinewidth\": 0, \"ticks\": \"\"}}, \"type\": \"scatter\"}], \"scatter3d\": [{\"line\": {\"colorbar\": {\"outlinewidth\": 0, \"ticks\": \"\"}}, \"marker\": {\"colorbar\": {\"outlinewidth\": 0, \"ticks\": \"\"}}, \"type\": \"scatter3d\"}], \"scattercarpet\": [{\"marker\": {\"colorbar\": {\"outlinewidth\": 0, \"ticks\": \"\"}}, \"type\": \"scattercarpet\"}], \"scattergeo\": [{\"marker\": {\"colorbar\": {\"outlinewidth\": 0, \"ticks\": \"\"}}, \"type\": \"scattergeo\"}], \"scattergl\": [{\"marker\": {\"colorbar\": {\"outlinewidth\": 0, \"ticks\": \"\"}}, \"type\": \"scattergl\"}], \"scattermapbox\": [{\"marker\": {\"colorbar\": {\"outlinewidth\": 0, \"ticks\": \"\"}}, \"type\": \"scattermapbox\"}], \"scatterpolar\": [{\"marker\": {\"colorbar\": {\"outlinewidth\": 0, \"ticks\": \"\"}}, \"type\": \"scatterpolar\"}], \"scatterpolargl\": [{\"marker\": {\"colorbar\": {\"outlinewidth\": 0, \"ticks\": \"\"}}, \"type\": \"scatterpolargl\"}], \"scatterternary\": [{\"marker\": {\"colorbar\": {\"outlinewidth\": 0, \"ticks\": \"\"}}, \"type\": \"scatterternary\"}], \"surface\": [{\"colorbar\": {\"outlinewidth\": 0, \"ticks\": \"\"}, \"colorscale\": [[0.0, \"#0d0887\"], [0.1111111111111111, \"#46039f\"], [0.2222222222222222, \"#7201a8\"], [0.3333333333333333, \"#9c179e\"], [0.4444444444444444, \"#bd3786\"], [0.5555555555555556, \"#d8576b\"], [0.6666666666666666, \"#ed7953\"], [0.7777777777777778, \"#fb9f3a\"], [0.8888888888888888, \"#fdca26\"], [1.0, \"#f0f921\"]], \"type\": \"surface\"}], \"table\": [{\"cells\": {\"fill\": {\"color\": \"#EBF0F8\"}, \"line\": {\"color\": \"white\"}}, \"header\": {\"fill\": {\"color\": \"#C8D4E3\"}, \"line\": {\"color\": \"white\"}}, \"type\": \"table\"}]}, \"layout\": {\"annotationdefaults\": {\"arrowcolor\": \"#2a3f5f\", \"arrowhead\": 0, \"arrowwidth\": 1}, \"coloraxis\": {\"colorbar\": {\"outlinewidth\": 0, \"ticks\": \"\"}}, \"colorscale\": {\"diverging\": [[0, \"#8e0152\"], [0.1, \"#c51b7d\"], [0.2, \"#de77ae\"], [0.3, \"#f1b6da\"], [0.4, \"#fde0ef\"], [0.5, \"#f7f7f7\"], [0.6, \"#e6f5d0\"], [0.7, \"#b8e186\"], [0.8, \"#7fbc41\"], [0.9, \"#4d9221\"], [1, \"#276419\"]], \"sequential\": [[0.0, \"#0d0887\"], [0.1111111111111111, \"#46039f\"], [0.2222222222222222, \"#7201a8\"], [0.3333333333333333, \"#9c179e\"], [0.4444444444444444, \"#bd3786\"], [0.5555555555555556, \"#d8576b\"], [0.6666666666666666, \"#ed7953\"], [0.7777777777777778, \"#fb9f3a\"], [0.8888888888888888, \"#fdca26\"], [1.0, \"#f0f921\"]], \"sequentialminus\": [[0.0, \"#0d0887\"], [0.1111111111111111, \"#46039f\"], [0.2222222222222222, \"#7201a8\"], [0.3333333333333333, \"#9c179e\"], [0.4444444444444444, \"#bd3786\"], [0.5555555555555556, \"#d8576b\"], [0.6666666666666666, \"#ed7953\"], [0.7777777777777778, \"#fb9f3a\"], [0.8888888888888888, \"#fdca26\"], [1.0, \"#f0f921\"]]}, \"colorway\": [\"#636efa\", \"#EF553B\", \"#00cc96\", \"#ab63fa\", \"#FFA15A\", \"#19d3f3\", \"#FF6692\", \"#B6E880\", \"#FF97FF\", \"#FECB52\"], \"font\": {\"color\": \"#2a3f5f\"}, \"geo\": {\"bgcolor\": \"white\", \"lakecolor\": \"white\", \"landcolor\": \"#E5ECF6\", \"showlakes\": true, \"showland\": true, \"subunitcolor\": \"white\"}, \"hoverlabel\": {\"align\": \"left\"}, \"hovermode\": \"closest\", \"mapbox\": {\"style\": \"light\"}, \"paper_bgcolor\": \"white\", \"plot_bgcolor\": \"#E5ECF6\", \"polar\": {\"angularaxis\": {\"gridcolor\": \"white\", \"linecolor\": \"white\", \"ticks\": \"\"}, \"bgcolor\": \"#E5ECF6\", \"radialaxis\": {\"gridcolor\": \"white\", \"linecolor\": \"white\", \"ticks\": \"\"}}, \"scene\": {\"xaxis\": {\"backgroundcolor\": \"#E5ECF6\", \"gridcolor\": \"white\", \"gridwidth\": 2, \"linecolor\": \"white\", \"showbackground\": true, \"ticks\": \"\", \"zerolinecolor\": \"white\"}, \"yaxis\": {\"backgroundcolor\": \"#E5ECF6\", \"gridcolor\": \"white\", \"gridwidth\": 2, \"linecolor\": \"white\", \"showbackground\": true, \"ticks\": \"\", \"zerolinecolor\": \"white\"}, \"zaxis\": {\"backgroundcolor\": \"#E5ECF6\", \"gridcolor\": \"white\", \"gridwidth\": 2, \"linecolor\": \"white\", \"showbackground\": true, \"ticks\": \"\", \"zerolinecolor\": \"white\"}}, \"shapedefaults\": {\"line\": {\"color\": \"#2a3f5f\"}}, \"ternary\": {\"aaxis\": {\"gridcolor\": \"white\", \"linecolor\": \"white\", \"ticks\": \"\"}, \"baxis\": {\"gridcolor\": \"white\", \"linecolor\": \"white\", \"ticks\": \"\"}, \"bgcolor\": \"#E5ECF6\", \"caxis\": {\"gridcolor\": \"white\", \"linecolor\": \"white\", \"ticks\": \"\"}}, \"title\": {\"x\": 0.05}, \"xaxis\": {\"automargin\": true, \"gridcolor\": \"white\", \"linecolor\": \"white\", \"ticks\": \"\", \"title\": {\"standoff\": 15}, \"zerolinecolor\": \"white\", \"zerolinewidth\": 2}, \"yaxis\": {\"automargin\": true, \"gridcolor\": \"white\", \"linecolor\": \"white\", \"ticks\": \"\", \"title\": {\"standoff\": 15}, \"zerolinecolor\": \"white\", \"zerolinewidth\": 2}}}, \"title\": {\"text\": \"COVID Case Rates: NYC vs. Manhattan vs. CTA\"}, \"xaxis\": {\"anchor\": \"y\", \"domain\": [0.0, 1.0], \"title\": {\"text\": \"Week Ending\"}}, \"yaxis\": {\"anchor\": \"x\", \"domain\": [0.0, 1.0], \"title\": {\"text\": \"Cases per 100K People\"}}},                        {\"responsive\": true}                    ).then(function(){\n",
       "                            \n",
       "var gd = document.getElementById('03380d19-30fa-42a6-b71d-bf330df7d1f3');\n",
       "var x = new MutationObserver(function (mutations, observer) {{\n",
       "        var display = window.getComputedStyle(gd).display;\n",
       "        if (!display || display === 'none') {{\n",
       "            console.log([gd, 'removed!']);\n",
       "            Plotly.purge(gd);\n",
       "            observer.disconnect();\n",
       "        }}\n",
       "}});\n",
       "\n",
       "// Listen for the removal of the full notebook cells\n",
       "var notebookContainer = gd.closest('#notebook-container');\n",
       "if (notebookContainer) {{\n",
       "    x.observe(notebookContainer, {childList: true});\n",
       "}}\n",
       "\n",
       "// Listen for the clearing of the current output cell\n",
       "var outputEl = gd.closest('.output');\n",
       "if (outputEl) {{\n",
       "    x.observe(outputEl, {childList: true});\n",
       "}}\n",
       "\n",
       "                        })                };                });            </script>        </div>"
      ]
     },
     "metadata": {},
     "output_type": "display_data"
    }
   ],
   "source": [
    "# Plotly Express makes things really easy, much easier than matplotlib. Let's give it a shot\n",
    "import plotly.express as px\n",
    "\n",
    "fig1 = px.line(case_rate_df, x=\"week_ending\", y=['CASERATE_CITY', 'CASERATE_MN', 'CASERATE_' + CTA])\n",
    "fig1.update_layout(title='COVID Case Rates: NYC vs. Manhattan vs. CTA',\n",
    "                 xaxis_title='Week Ending',\n",
    "                 yaxis_title='Cases per 100K People',\n",
    "                 legend_title_text='Jurisdiction')\n",
    "fig1.show()"
   ]
  },
  {
   "cell_type": "markdown",
   "metadata": {},
   "source": [
    "That was easy! However, it is a rather simple chart. I took a shot at building a prettier chart. It is *much, much* more verbose--and makes the case for buying Tableau. However the output is much prettier..."
   ]
  },
  {
   "cell_type": "code",
   "execution_count": 27,
   "metadata": {},
   "outputs": [
    {
     "data": {
      "application/vnd.plotly.v1+json": {
       "config": {
        "plotlyServerURL": "https://plot.ly"
       },
       "data": [
        {
         "line": {
          "color": "darkblue",
          "dash": "dot",
          "width": 4
         },
         "name": "New York City",
         "type": "scatter",
         "x": [
          "08/08/2020",
          "08/15/2020",
          "08/22/2020",
          "08/29/2020",
          "09/05/2020",
          "09/12/2020",
          "09/19/2020",
          "09/26/2020",
          "10/03/2020",
          "10/10/2020",
          "10/17/2020",
          "10/24/2020",
          "10/31/2020",
          "11/07/2020",
          "11/14/2020",
          "11/21/2020",
          "11/28/2020",
          "12/05/2020",
          "12/12/2020",
          "12/19/2020",
          "12/26/2020",
          "01/02/2021",
          "01/09/2021",
          "01/16/2021",
          "01/23/2021",
          "01/30/2021",
          "02/06/2021",
          "02/13/2021",
          "02/20/2021",
          "02/27/2021",
          "03/06/2021",
          "03/13/2021",
          "03/20/2021",
          "03/27/2021",
          "04/03/2021",
          "04/10/2021"
         ],
         "xaxis": "x",
         "y": [
          19.05,
          20.06,
          18.76,
          19.68,
          19.96,
          23.34,
          25.62,
          32.94,
          41.99,
          42.11,
          40.22,
          47.31,
          49.8,
          75.72,
          111.81,
          130.24,
          149.89,
          213.29,
          228.72,
          234.27,
          256.62,
          318.11,
          421.44,
          383.48,
          353.84,
          338.71,
          276.69,
          261.11,
          225.71,
          250.74,
          233.59,
          234.95,
          228.25,
          251.49,
          215.75,
          184.58
         ],
         "yaxis": "y"
        },
        {
         "line": {
          "color": "green",
          "dash": "dash",
          "width": 4
         },
         "name": "Manhattan",
         "type": "scatter",
         "x": [
          "08/08/2020",
          "08/15/2020",
          "08/22/2020",
          "08/29/2020",
          "09/05/2020",
          "09/12/2020",
          "09/19/2020",
          "09/26/2020",
          "10/03/2020",
          "10/10/2020",
          "10/17/2020",
          "10/24/2020",
          "10/31/2020",
          "11/07/2020",
          "11/14/2020",
          "11/21/2020",
          "11/28/2020",
          "12/05/2020",
          "12/12/2020",
          "12/19/2020",
          "12/26/2020",
          "01/02/2021",
          "01/09/2021",
          "01/16/2021",
          "01/23/2021",
          "01/30/2021",
          "02/06/2021",
          "02/13/2021",
          "02/20/2021",
          "02/27/2021",
          "03/06/2021",
          "03/13/2021",
          "03/20/2021",
          "03/27/2021",
          "04/03/2021",
          "04/10/2021"
         ],
         "xaxis": "x",
         "y": [
          15.96,
          15.84,
          17.74,
          16.7,
          15.72,
          20.26,
          19.65,
          21.61,
          27.94,
          28.06,
          32.6,
          37.45,
          41.32,
          65.45,
          103.89,
          116.29,
          126.85,
          153.74,
          169.95,
          175.42,
          174.19,
          196.05,
          294.22,
          260.15,
          254.86,
          244.49,
          202.92,
          192.36,
          176.77,
          192.85,
          173.76,
          178.36,
          165.96,
          181.98,
          157.49,
          128.81
         ],
         "yaxis": "y"
        },
        {
         "line": {
          "color": "firebrick",
          "width": 4
         },
         "name": "Lincoln Square",
         "type": "scatter",
         "x": [
          "08/08/2020",
          "08/15/2020",
          "08/22/2020",
          "08/29/2020",
          "09/05/2020",
          "09/12/2020",
          "09/19/2020",
          "09/26/2020",
          "10/03/2020",
          "10/10/2020",
          "10/17/2020",
          "10/24/2020",
          "10/31/2020",
          "11/07/2020",
          "11/14/2020",
          "11/21/2020",
          "11/28/2020",
          "12/05/2020",
          "12/12/2020",
          "12/19/2020",
          "12/26/2020",
          "01/02/2021",
          "01/09/2021",
          "01/16/2021",
          "01/23/2021",
          "01/30/2021",
          "02/06/2021",
          "02/13/2021",
          "02/20/2021",
          "02/27/2021",
          "03/06/2021",
          "03/13/2021",
          "03/20/2021",
          "03/27/2021",
          "04/03/2021",
          "04/10/2021"
         ],
         "xaxis": "x",
         "y": [
          31.82,
          15.91,
          15.91,
          31.82,
          0,
          0,
          15.91,
          15.91,
          47.74,
          0,
          79.56,
          63.65,
          15.91,
          190.94,
          79.56,
          159.12,
          190.94,
          159.12,
          286.42,
          95.47,
          222.77,
          254.59,
          397.8,
          302.33,
          270.5,
          206.86,
          318.24,
          175.03,
          143.21,
          111.38,
          222.77,
          127.3,
          111.38,
          95.47,
          95.47,
          206.86
         ],
         "yaxis": "y"
        },
        {
         "cells": {
          "align": [
           "left",
           "right"
          ],
          "font": {
           "family": "Arial",
           "size": 16
          },
          "height": 30,
          "values": [
           [
            "08/08/2020",
            "08/15/2020",
            "08/22/2020",
            "08/29/2020",
            "09/05/2020",
            "09/12/2020",
            "09/19/2020",
            "09/26/2020",
            "10/03/2020",
            "10/10/2020",
            "10/17/2020",
            "10/24/2020",
            "10/31/2020",
            "11/07/2020",
            "11/14/2020",
            "11/21/2020",
            "11/28/2020",
            "12/05/2020",
            "12/12/2020",
            "12/19/2020",
            "12/26/2020",
            "01/02/2021",
            "01/09/2021",
            "01/16/2021",
            "01/23/2021",
            "01/30/2021",
            "02/06/2021",
            "02/13/2021",
            "02/20/2021",
            "02/27/2021",
            "03/06/2021",
            "03/13/2021",
            "03/20/2021",
            "03/27/2021",
            "04/03/2021",
            "04/10/2021"
           ],
           [
            19.05,
            20.06,
            18.76,
            19.68,
            19.96,
            23.34,
            25.62,
            32.94,
            41.99,
            42.11,
            40.22,
            47.31,
            49.8,
            75.72,
            111.81,
            130.24,
            149.89,
            213.29,
            228.72,
            234.27,
            256.62,
            318.11,
            421.44,
            383.48,
            353.84,
            338.71,
            276.69,
            261.11,
            225.71,
            250.74,
            233.59,
            234.95,
            228.25,
            251.49,
            215.75,
            184.58
           ],
           [
            15.96,
            15.84,
            17.74,
            16.7,
            15.72,
            20.26,
            19.65,
            21.61,
            27.94,
            28.06,
            32.6,
            37.45,
            41.32,
            65.45,
            103.89,
            116.29,
            126.85,
            153.74,
            169.95,
            175.42,
            174.19,
            196.05,
            294.22,
            260.15,
            254.86,
            244.49,
            202.92,
            192.36,
            176.77,
            192.85,
            173.76,
            178.36,
            165.96,
            181.98,
            157.49,
            128.81
           ],
           [
            31.82,
            15.91,
            15.91,
            31.82,
            0,
            0,
            15.91,
            15.91,
            47.74,
            0,
            79.56,
            63.65,
            15.91,
            190.94,
            79.56,
            159.12,
            190.94,
            159.12,
            286.42,
            95.47,
            222.77,
            254.59,
            397.8,
            302.33,
            270.5,
            206.86,
            318.24,
            175.03,
            143.21,
            111.38,
            222.77,
            127.3,
            111.38,
            95.47,
            95.47,
            206.86
           ]
          ]
         },
         "domain": {
          "x": [
           0,
           1
          ],
          "y": [
           0,
           0.475
          ]
         },
         "header": {
          "align": [
           "left",
           "right"
          ],
          "font": {
           "family": "Arial",
           "size": 14
          },
          "height": 30,
          "values": [
           "<b>Week Ending</b>",
           "<b>New York City</b>",
           "<b>Manhattan</b>",
           "<b>Lincoln Square</b>"
          ]
         },
         "type": "table"
        }
       ],
       "layout": {
        "font": {
         "family": "Arial",
         "size": 14
        },
        "height": 1600,
        "template": {
         "data": {
          "bar": [
           {
            "error_x": {
             "color": "#2a3f5f"
            },
            "error_y": {
             "color": "#2a3f5f"
            },
            "marker": {
             "line": {
              "color": "#E5ECF6",
              "width": 0.5
             }
            },
            "type": "bar"
           }
          ],
          "barpolar": [
           {
            "marker": {
             "line": {
              "color": "#E5ECF6",
              "width": 0.5
             }
            },
            "type": "barpolar"
           }
          ],
          "carpet": [
           {
            "aaxis": {
             "endlinecolor": "#2a3f5f",
             "gridcolor": "white",
             "linecolor": "white",
             "minorgridcolor": "white",
             "startlinecolor": "#2a3f5f"
            },
            "baxis": {
             "endlinecolor": "#2a3f5f",
             "gridcolor": "white",
             "linecolor": "white",
             "minorgridcolor": "white",
             "startlinecolor": "#2a3f5f"
            },
            "type": "carpet"
           }
          ],
          "choropleth": [
           {
            "colorbar": {
             "outlinewidth": 0,
             "ticks": ""
            },
            "type": "choropleth"
           }
          ],
          "contour": [
           {
            "colorbar": {
             "outlinewidth": 0,
             "ticks": ""
            },
            "colorscale": [
             [
              0,
              "#0d0887"
             ],
             [
              0.1111111111111111,
              "#46039f"
             ],
             [
              0.2222222222222222,
              "#7201a8"
             ],
             [
              0.3333333333333333,
              "#9c179e"
             ],
             [
              0.4444444444444444,
              "#bd3786"
             ],
             [
              0.5555555555555556,
              "#d8576b"
             ],
             [
              0.6666666666666666,
              "#ed7953"
             ],
             [
              0.7777777777777778,
              "#fb9f3a"
             ],
             [
              0.8888888888888888,
              "#fdca26"
             ],
             [
              1,
              "#f0f921"
             ]
            ],
            "type": "contour"
           }
          ],
          "contourcarpet": [
           {
            "colorbar": {
             "outlinewidth": 0,
             "ticks": ""
            },
            "type": "contourcarpet"
           }
          ],
          "heatmap": [
           {
            "colorbar": {
             "outlinewidth": 0,
             "ticks": ""
            },
            "colorscale": [
             [
              0,
              "#0d0887"
             ],
             [
              0.1111111111111111,
              "#46039f"
             ],
             [
              0.2222222222222222,
              "#7201a8"
             ],
             [
              0.3333333333333333,
              "#9c179e"
             ],
             [
              0.4444444444444444,
              "#bd3786"
             ],
             [
              0.5555555555555556,
              "#d8576b"
             ],
             [
              0.6666666666666666,
              "#ed7953"
             ],
             [
              0.7777777777777778,
              "#fb9f3a"
             ],
             [
              0.8888888888888888,
              "#fdca26"
             ],
             [
              1,
              "#f0f921"
             ]
            ],
            "type": "heatmap"
           }
          ],
          "heatmapgl": [
           {
            "colorbar": {
             "outlinewidth": 0,
             "ticks": ""
            },
            "colorscale": [
             [
              0,
              "#0d0887"
             ],
             [
              0.1111111111111111,
              "#46039f"
             ],
             [
              0.2222222222222222,
              "#7201a8"
             ],
             [
              0.3333333333333333,
              "#9c179e"
             ],
             [
              0.4444444444444444,
              "#bd3786"
             ],
             [
              0.5555555555555556,
              "#d8576b"
             ],
             [
              0.6666666666666666,
              "#ed7953"
             ],
             [
              0.7777777777777778,
              "#fb9f3a"
             ],
             [
              0.8888888888888888,
              "#fdca26"
             ],
             [
              1,
              "#f0f921"
             ]
            ],
            "type": "heatmapgl"
           }
          ],
          "histogram": [
           {
            "marker": {
             "colorbar": {
              "outlinewidth": 0,
              "ticks": ""
             }
            },
            "type": "histogram"
           }
          ],
          "histogram2d": [
           {
            "colorbar": {
             "outlinewidth": 0,
             "ticks": ""
            },
            "colorscale": [
             [
              0,
              "#0d0887"
             ],
             [
              0.1111111111111111,
              "#46039f"
             ],
             [
              0.2222222222222222,
              "#7201a8"
             ],
             [
              0.3333333333333333,
              "#9c179e"
             ],
             [
              0.4444444444444444,
              "#bd3786"
             ],
             [
              0.5555555555555556,
              "#d8576b"
             ],
             [
              0.6666666666666666,
              "#ed7953"
             ],
             [
              0.7777777777777778,
              "#fb9f3a"
             ],
             [
              0.8888888888888888,
              "#fdca26"
             ],
             [
              1,
              "#f0f921"
             ]
            ],
            "type": "histogram2d"
           }
          ],
          "histogram2dcontour": [
           {
            "colorbar": {
             "outlinewidth": 0,
             "ticks": ""
            },
            "colorscale": [
             [
              0,
              "#0d0887"
             ],
             [
              0.1111111111111111,
              "#46039f"
             ],
             [
              0.2222222222222222,
              "#7201a8"
             ],
             [
              0.3333333333333333,
              "#9c179e"
             ],
             [
              0.4444444444444444,
              "#bd3786"
             ],
             [
              0.5555555555555556,
              "#d8576b"
             ],
             [
              0.6666666666666666,
              "#ed7953"
             ],
             [
              0.7777777777777778,
              "#fb9f3a"
             ],
             [
              0.8888888888888888,
              "#fdca26"
             ],
             [
              1,
              "#f0f921"
             ]
            ],
            "type": "histogram2dcontour"
           }
          ],
          "mesh3d": [
           {
            "colorbar": {
             "outlinewidth": 0,
             "ticks": ""
            },
            "type": "mesh3d"
           }
          ],
          "parcoords": [
           {
            "line": {
             "colorbar": {
              "outlinewidth": 0,
              "ticks": ""
             }
            },
            "type": "parcoords"
           }
          ],
          "pie": [
           {
            "automargin": true,
            "type": "pie"
           }
          ],
          "scatter": [
           {
            "marker": {
             "colorbar": {
              "outlinewidth": 0,
              "ticks": ""
             }
            },
            "type": "scatter"
           }
          ],
          "scatter3d": [
           {
            "line": {
             "colorbar": {
              "outlinewidth": 0,
              "ticks": ""
             }
            },
            "marker": {
             "colorbar": {
              "outlinewidth": 0,
              "ticks": ""
             }
            },
            "type": "scatter3d"
           }
          ],
          "scattercarpet": [
           {
            "marker": {
             "colorbar": {
              "outlinewidth": 0,
              "ticks": ""
             }
            },
            "type": "scattercarpet"
           }
          ],
          "scattergeo": [
           {
            "marker": {
             "colorbar": {
              "outlinewidth": 0,
              "ticks": ""
             }
            },
            "type": "scattergeo"
           }
          ],
          "scattergl": [
           {
            "marker": {
             "colorbar": {
              "outlinewidth": 0,
              "ticks": ""
             }
            },
            "type": "scattergl"
           }
          ],
          "scattermapbox": [
           {
            "marker": {
             "colorbar": {
              "outlinewidth": 0,
              "ticks": ""
             }
            },
            "type": "scattermapbox"
           }
          ],
          "scatterpolar": [
           {
            "marker": {
             "colorbar": {
              "outlinewidth": 0,
              "ticks": ""
             }
            },
            "type": "scatterpolar"
           }
          ],
          "scatterpolargl": [
           {
            "marker": {
             "colorbar": {
              "outlinewidth": 0,
              "ticks": ""
             }
            },
            "type": "scatterpolargl"
           }
          ],
          "scatterternary": [
           {
            "marker": {
             "colorbar": {
              "outlinewidth": 0,
              "ticks": ""
             }
            },
            "type": "scatterternary"
           }
          ],
          "surface": [
           {
            "colorbar": {
             "outlinewidth": 0,
             "ticks": ""
            },
            "colorscale": [
             [
              0,
              "#0d0887"
             ],
             [
              0.1111111111111111,
              "#46039f"
             ],
             [
              0.2222222222222222,
              "#7201a8"
             ],
             [
              0.3333333333333333,
              "#9c179e"
             ],
             [
              0.4444444444444444,
              "#bd3786"
             ],
             [
              0.5555555555555556,
              "#d8576b"
             ],
             [
              0.6666666666666666,
              "#ed7953"
             ],
             [
              0.7777777777777778,
              "#fb9f3a"
             ],
             [
              0.8888888888888888,
              "#fdca26"
             ],
             [
              1,
              "#f0f921"
             ]
            ],
            "type": "surface"
           }
          ],
          "table": [
           {
            "cells": {
             "fill": {
              "color": "#EBF0F8"
             },
             "line": {
              "color": "white"
             }
            },
            "header": {
             "fill": {
              "color": "#C8D4E3"
             },
             "line": {
              "color": "white"
             }
            },
            "type": "table"
           }
          ]
         },
         "layout": {
          "annotationdefaults": {
           "arrowcolor": "#2a3f5f",
           "arrowhead": 0,
           "arrowwidth": 1
          },
          "coloraxis": {
           "colorbar": {
            "outlinewidth": 0,
            "ticks": ""
           }
          },
          "colorscale": {
           "diverging": [
            [
             0,
             "#8e0152"
            ],
            [
             0.1,
             "#c51b7d"
            ],
            [
             0.2,
             "#de77ae"
            ],
            [
             0.3,
             "#f1b6da"
            ],
            [
             0.4,
             "#fde0ef"
            ],
            [
             0.5,
             "#f7f7f7"
            ],
            [
             0.6,
             "#e6f5d0"
            ],
            [
             0.7,
             "#b8e186"
            ],
            [
             0.8,
             "#7fbc41"
            ],
            [
             0.9,
             "#4d9221"
            ],
            [
             1,
             "#276419"
            ]
           ],
           "sequential": [
            [
             0,
             "#0d0887"
            ],
            [
             0.1111111111111111,
             "#46039f"
            ],
            [
             0.2222222222222222,
             "#7201a8"
            ],
            [
             0.3333333333333333,
             "#9c179e"
            ],
            [
             0.4444444444444444,
             "#bd3786"
            ],
            [
             0.5555555555555556,
             "#d8576b"
            ],
            [
             0.6666666666666666,
             "#ed7953"
            ],
            [
             0.7777777777777778,
             "#fb9f3a"
            ],
            [
             0.8888888888888888,
             "#fdca26"
            ],
            [
             1,
             "#f0f921"
            ]
           ],
           "sequentialminus": [
            [
             0,
             "#0d0887"
            ],
            [
             0.1111111111111111,
             "#46039f"
            ],
            [
             0.2222222222222222,
             "#7201a8"
            ],
            [
             0.3333333333333333,
             "#9c179e"
            ],
            [
             0.4444444444444444,
             "#bd3786"
            ],
            [
             0.5555555555555556,
             "#d8576b"
            ],
            [
             0.6666666666666666,
             "#ed7953"
            ],
            [
             0.7777777777777778,
             "#fb9f3a"
            ],
            [
             0.8888888888888888,
             "#fdca26"
            ],
            [
             1,
             "#f0f921"
            ]
           ]
          },
          "colorway": [
           "#636efa",
           "#EF553B",
           "#00cc96",
           "#ab63fa",
           "#FFA15A",
           "#19d3f3",
           "#FF6692",
           "#B6E880",
           "#FF97FF",
           "#FECB52"
          ],
          "font": {
           "color": "#2a3f5f"
          },
          "geo": {
           "bgcolor": "white",
           "lakecolor": "white",
           "landcolor": "#E5ECF6",
           "showlakes": true,
           "showland": true,
           "subunitcolor": "white"
          },
          "hoverlabel": {
           "align": "left"
          },
          "hovermode": "closest",
          "mapbox": {
           "style": "light"
          },
          "paper_bgcolor": "white",
          "plot_bgcolor": "#E5ECF6",
          "polar": {
           "angularaxis": {
            "gridcolor": "white",
            "linecolor": "white",
            "ticks": ""
           },
           "bgcolor": "#E5ECF6",
           "radialaxis": {
            "gridcolor": "white",
            "linecolor": "white",
            "ticks": ""
           }
          },
          "scene": {
           "xaxis": {
            "backgroundcolor": "#E5ECF6",
            "gridcolor": "white",
            "gridwidth": 2,
            "linecolor": "white",
            "showbackground": true,
            "ticks": "",
            "zerolinecolor": "white"
           },
           "yaxis": {
            "backgroundcolor": "#E5ECF6",
            "gridcolor": "white",
            "gridwidth": 2,
            "linecolor": "white",
            "showbackground": true,
            "ticks": "",
            "zerolinecolor": "white"
           },
           "zaxis": {
            "backgroundcolor": "#E5ECF6",
            "gridcolor": "white",
            "gridwidth": 2,
            "linecolor": "white",
            "showbackground": true,
            "ticks": "",
            "zerolinecolor": "white"
           }
          },
          "shapedefaults": {
           "line": {
            "color": "#2a3f5f"
           }
          },
          "ternary": {
           "aaxis": {
            "gridcolor": "white",
            "linecolor": "white",
            "ticks": ""
           },
           "baxis": {
            "gridcolor": "white",
            "linecolor": "white",
            "ticks": ""
           },
           "bgcolor": "#E5ECF6",
           "caxis": {
            "gridcolor": "white",
            "linecolor": "white",
            "ticks": ""
           }
          },
          "title": {
           "x": 0.05
          },
          "xaxis": {
           "automargin": true,
           "gridcolor": "white",
           "linecolor": "white",
           "ticks": "",
           "title": {
            "standoff": 15
           },
           "zerolinecolor": "white",
           "zerolinewidth": 2
          },
          "yaxis": {
           "automargin": true,
           "gridcolor": "white",
           "linecolor": "white",
           "ticks": "",
           "title": {
            "standoff": 15
           },
           "zerolinecolor": "white",
           "zerolinewidth": 2
          }
         }
        },
        "width": 900,
        "xaxis": {
         "anchor": "y",
         "domain": [
          0,
          1
         ],
         "linecolor": "rgb(204, 204, 204)",
         "linewidth": 2,
         "showgrid": false,
         "showline": true,
         "showticklabels": true,
         "tickfont": {
          "family": "Arial",
          "size": 10
         },
         "ticks": "outside"
        },
        "yaxis": {
         "anchor": "x",
         "domain": [
          0.525,
          1
         ],
         "linecolor": "rgb(204, 204, 204)",
         "linewidth": 2,
         "showgrid": true,
         "showline": true,
         "showticklabels": true,
         "tickfont": {
          "family": "Arial",
          "size": 16
         },
         "ticks": "outside",
         "title": {
          "text": "COVID Cases per 100K People"
         }
        }
       }
      },
      "text/html": [
       "<div>                            <div id=\"eb3610eb-ea69-4e87-9821-877c2b55da41\" class=\"plotly-graph-div\" style=\"height:1600px; width:900px;\"></div>            <script type=\"text/javascript\">                require([\"plotly\"], function(Plotly) {                    window.PLOTLYENV=window.PLOTLYENV || {};                                    if (document.getElementById(\"eb3610eb-ea69-4e87-9821-877c2b55da41\")) {                    Plotly.newPlot(                        \"eb3610eb-ea69-4e87-9821-877c2b55da41\",                        [{\"line\": {\"color\": \"darkblue\", \"dash\": \"dot\", \"width\": 4}, \"name\": \"New York City\", \"type\": \"scatter\", \"x\": [\"08/08/2020\", \"08/15/2020\", \"08/22/2020\", \"08/29/2020\", \"09/05/2020\", \"09/12/2020\", \"09/19/2020\", \"09/26/2020\", \"10/03/2020\", \"10/10/2020\", \"10/17/2020\", \"10/24/2020\", \"10/31/2020\", \"11/07/2020\", \"11/14/2020\", \"11/21/2020\", \"11/28/2020\", \"12/05/2020\", \"12/12/2020\", \"12/19/2020\", \"12/26/2020\", \"01/02/2021\", \"01/09/2021\", \"01/16/2021\", \"01/23/2021\", \"01/30/2021\", \"02/06/2021\", \"02/13/2021\", \"02/20/2021\", \"02/27/2021\", \"03/06/2021\", \"03/13/2021\", \"03/20/2021\", \"03/27/2021\", \"04/03/2021\", \"04/10/2021\"], \"xaxis\": \"x\", \"y\": [19.05, 20.06, 18.76, 19.68, 19.96, 23.34, 25.62, 32.94, 41.99, 42.11, 40.22, 47.31, 49.8, 75.72, 111.81, 130.24, 149.89, 213.29, 228.72, 234.27, 256.62, 318.11, 421.44, 383.48, 353.84, 338.71, 276.69, 261.11, 225.71, 250.74, 233.59, 234.95, 228.25, 251.49, 215.75, 184.58], \"yaxis\": \"y\"}, {\"line\": {\"color\": \"green\", \"dash\": \"dash\", \"width\": 4}, \"name\": \"Manhattan\", \"type\": \"scatter\", \"x\": [\"08/08/2020\", \"08/15/2020\", \"08/22/2020\", \"08/29/2020\", \"09/05/2020\", \"09/12/2020\", \"09/19/2020\", \"09/26/2020\", \"10/03/2020\", \"10/10/2020\", \"10/17/2020\", \"10/24/2020\", \"10/31/2020\", \"11/07/2020\", \"11/14/2020\", \"11/21/2020\", \"11/28/2020\", \"12/05/2020\", \"12/12/2020\", \"12/19/2020\", \"12/26/2020\", \"01/02/2021\", \"01/09/2021\", \"01/16/2021\", \"01/23/2021\", \"01/30/2021\", \"02/06/2021\", \"02/13/2021\", \"02/20/2021\", \"02/27/2021\", \"03/06/2021\", \"03/13/2021\", \"03/20/2021\", \"03/27/2021\", \"04/03/2021\", \"04/10/2021\"], \"xaxis\": \"x\", \"y\": [15.96, 15.84, 17.74, 16.7, 15.72, 20.26, 19.65, 21.61, 27.94, 28.06, 32.6, 37.45, 41.32, 65.45, 103.89, 116.29, 126.85, 153.74, 169.95, 175.42, 174.19, 196.05, 294.22, 260.15, 254.86, 244.49, 202.92, 192.36, 176.77, 192.85, 173.76, 178.36, 165.96, 181.98, 157.49, 128.81], \"yaxis\": \"y\"}, {\"line\": {\"color\": \"firebrick\", \"width\": 4}, \"name\": \"Lincoln Square\", \"type\": \"scatter\", \"x\": [\"08/08/2020\", \"08/15/2020\", \"08/22/2020\", \"08/29/2020\", \"09/05/2020\", \"09/12/2020\", \"09/19/2020\", \"09/26/2020\", \"10/03/2020\", \"10/10/2020\", \"10/17/2020\", \"10/24/2020\", \"10/31/2020\", \"11/07/2020\", \"11/14/2020\", \"11/21/2020\", \"11/28/2020\", \"12/05/2020\", \"12/12/2020\", \"12/19/2020\", \"12/26/2020\", \"01/02/2021\", \"01/09/2021\", \"01/16/2021\", \"01/23/2021\", \"01/30/2021\", \"02/06/2021\", \"02/13/2021\", \"02/20/2021\", \"02/27/2021\", \"03/06/2021\", \"03/13/2021\", \"03/20/2021\", \"03/27/2021\", \"04/03/2021\", \"04/10/2021\"], \"xaxis\": \"x\", \"y\": [31.82, 15.91, 15.91, 31.82, 0.0, 0.0, 15.91, 15.91, 47.74, 0.0, 79.56, 63.65, 15.91, 190.94, 79.56, 159.12, 190.94, 159.12, 286.42, 95.47, 222.77, 254.59, 397.8, 302.33, 270.5, 206.86, 318.24, 175.03, 143.21, 111.38, 222.77, 127.3, 111.38, 95.47, 95.47, 206.86], \"yaxis\": \"y\"}, {\"cells\": {\"align\": [\"left\", \"right\"], \"font\": {\"family\": \"Arial\", \"size\": 16}, \"height\": 30, \"values\": [[\"08/08/2020\", \"08/15/2020\", \"08/22/2020\", \"08/29/2020\", \"09/05/2020\", \"09/12/2020\", \"09/19/2020\", \"09/26/2020\", \"10/03/2020\", \"10/10/2020\", \"10/17/2020\", \"10/24/2020\", \"10/31/2020\", \"11/07/2020\", \"11/14/2020\", \"11/21/2020\", \"11/28/2020\", \"12/05/2020\", \"12/12/2020\", \"12/19/2020\", \"12/26/2020\", \"01/02/2021\", \"01/09/2021\", \"01/16/2021\", \"01/23/2021\", \"01/30/2021\", \"02/06/2021\", \"02/13/2021\", \"02/20/2021\", \"02/27/2021\", \"03/06/2021\", \"03/13/2021\", \"03/20/2021\", \"03/27/2021\", \"04/03/2021\", \"04/10/2021\"], [19.05, 20.06, 18.76, 19.68, 19.96, 23.34, 25.62, 32.94, 41.99, 42.11, 40.22, 47.31, 49.8, 75.72, 111.81, 130.24, 149.89, 213.29, 228.72, 234.27, 256.62, 318.11, 421.44, 383.48, 353.84, 338.71, 276.69, 261.11, 225.71, 250.74, 233.59, 234.95, 228.25, 251.49, 215.75, 184.58], [15.96, 15.84, 17.74, 16.7, 15.72, 20.26, 19.65, 21.61, 27.94, 28.06, 32.6, 37.45, 41.32, 65.45, 103.89, 116.29, 126.85, 153.74, 169.95, 175.42, 174.19, 196.05, 294.22, 260.15, 254.86, 244.49, 202.92, 192.36, 176.77, 192.85, 173.76, 178.36, 165.96, 181.98, 157.49, 128.81], [31.82, 15.91, 15.91, 31.82, 0.0, 0.0, 15.91, 15.91, 47.74, 0.0, 79.56, 63.65, 15.91, 190.94, 79.56, 159.12, 190.94, 159.12, 286.42, 95.47, 222.77, 254.59, 397.8, 302.33, 270.5, 206.86, 318.24, 175.03, 143.21, 111.38, 222.77, 127.3, 111.38, 95.47, 95.47, 206.86]]}, \"domain\": {\"x\": [0.0, 1.0], \"y\": [0.0, 0.475]}, \"header\": {\"align\": [\"left\", \"right\"], \"font\": {\"family\": \"Arial\", \"size\": 14}, \"height\": 30, \"values\": [\"<b>Week Ending</b>\", \"<b>New York City</b>\", \"<b>Manhattan</b>\", \"<b>Lincoln Square</b>\"]}, \"type\": \"table\"}],                        {\"font\": {\"family\": \"Arial\", \"size\": 14}, \"height\": 1600, \"template\": {\"data\": {\"bar\": [{\"error_x\": {\"color\": \"#2a3f5f\"}, \"error_y\": {\"color\": \"#2a3f5f\"}, \"marker\": {\"line\": {\"color\": \"#E5ECF6\", \"width\": 0.5}}, \"type\": \"bar\"}], \"barpolar\": [{\"marker\": {\"line\": {\"color\": \"#E5ECF6\", \"width\": 0.5}}, \"type\": \"barpolar\"}], \"carpet\": [{\"aaxis\": {\"endlinecolor\": \"#2a3f5f\", \"gridcolor\": \"white\", \"linecolor\": \"white\", \"minorgridcolor\": \"white\", \"startlinecolor\": \"#2a3f5f\"}, \"baxis\": {\"endlinecolor\": \"#2a3f5f\", \"gridcolor\": \"white\", \"linecolor\": \"white\", \"minorgridcolor\": \"white\", \"startlinecolor\": \"#2a3f5f\"}, \"type\": \"carpet\"}], \"choropleth\": [{\"colorbar\": {\"outlinewidth\": 0, \"ticks\": \"\"}, \"type\": \"choropleth\"}], \"contour\": [{\"colorbar\": {\"outlinewidth\": 0, \"ticks\": \"\"}, \"colorscale\": [[0.0, \"#0d0887\"], [0.1111111111111111, \"#46039f\"], [0.2222222222222222, \"#7201a8\"], [0.3333333333333333, \"#9c179e\"], [0.4444444444444444, \"#bd3786\"], [0.5555555555555556, \"#d8576b\"], [0.6666666666666666, \"#ed7953\"], [0.7777777777777778, \"#fb9f3a\"], [0.8888888888888888, \"#fdca26\"], [1.0, \"#f0f921\"]], \"type\": \"contour\"}], \"contourcarpet\": [{\"colorbar\": {\"outlinewidth\": 0, \"ticks\": \"\"}, \"type\": \"contourcarpet\"}], \"heatmap\": [{\"colorbar\": {\"outlinewidth\": 0, \"ticks\": \"\"}, \"colorscale\": [[0.0, \"#0d0887\"], [0.1111111111111111, \"#46039f\"], [0.2222222222222222, \"#7201a8\"], [0.3333333333333333, \"#9c179e\"], [0.4444444444444444, \"#bd3786\"], [0.5555555555555556, \"#d8576b\"], [0.6666666666666666, \"#ed7953\"], [0.7777777777777778, \"#fb9f3a\"], [0.8888888888888888, \"#fdca26\"], [1.0, \"#f0f921\"]], \"type\": \"heatmap\"}], \"heatmapgl\": [{\"colorbar\": {\"outlinewidth\": 0, \"ticks\": \"\"}, \"colorscale\": [[0.0, \"#0d0887\"], [0.1111111111111111, \"#46039f\"], [0.2222222222222222, \"#7201a8\"], [0.3333333333333333, \"#9c179e\"], [0.4444444444444444, \"#bd3786\"], [0.5555555555555556, \"#d8576b\"], [0.6666666666666666, \"#ed7953\"], [0.7777777777777778, \"#fb9f3a\"], [0.8888888888888888, \"#fdca26\"], [1.0, \"#f0f921\"]], \"type\": \"heatmapgl\"}], \"histogram\": [{\"marker\": {\"colorbar\": {\"outlinewidth\": 0, \"ticks\": \"\"}}, \"type\": \"histogram\"}], \"histogram2d\": [{\"colorbar\": {\"outlinewidth\": 0, \"ticks\": \"\"}, \"colorscale\": [[0.0, \"#0d0887\"], [0.1111111111111111, \"#46039f\"], [0.2222222222222222, \"#7201a8\"], [0.3333333333333333, \"#9c179e\"], [0.4444444444444444, \"#bd3786\"], [0.5555555555555556, \"#d8576b\"], [0.6666666666666666, \"#ed7953\"], [0.7777777777777778, \"#fb9f3a\"], [0.8888888888888888, \"#fdca26\"], [1.0, \"#f0f921\"]], \"type\": \"histogram2d\"}], \"histogram2dcontour\": [{\"colorbar\": {\"outlinewidth\": 0, \"ticks\": \"\"}, \"colorscale\": [[0.0, \"#0d0887\"], [0.1111111111111111, \"#46039f\"], [0.2222222222222222, \"#7201a8\"], [0.3333333333333333, \"#9c179e\"], [0.4444444444444444, \"#bd3786\"], [0.5555555555555556, \"#d8576b\"], [0.6666666666666666, \"#ed7953\"], [0.7777777777777778, \"#fb9f3a\"], [0.8888888888888888, \"#fdca26\"], [1.0, \"#f0f921\"]], \"type\": \"histogram2dcontour\"}], \"mesh3d\": [{\"colorbar\": {\"outlinewidth\": 0, \"ticks\": \"\"}, \"type\": \"mesh3d\"}], \"parcoords\": [{\"line\": {\"colorbar\": {\"outlinewidth\": 0, \"ticks\": \"\"}}, \"type\": \"parcoords\"}], \"pie\": [{\"automargin\": true, \"type\": \"pie\"}], \"scatter\": [{\"marker\": {\"colorbar\": {\"outlinewidth\": 0, \"ticks\": \"\"}}, \"type\": \"scatter\"}], \"scatter3d\": [{\"line\": {\"colorbar\": {\"outlinewidth\": 0, \"ticks\": \"\"}}, \"marker\": {\"colorbar\": {\"outlinewidth\": 0, \"ticks\": \"\"}}, \"type\": \"scatter3d\"}], \"scattercarpet\": [{\"marker\": {\"colorbar\": {\"outlinewidth\": 0, \"ticks\": \"\"}}, \"type\": \"scattercarpet\"}], \"scattergeo\": [{\"marker\": {\"colorbar\": {\"outlinewidth\": 0, \"ticks\": \"\"}}, \"type\": \"scattergeo\"}], \"scattergl\": [{\"marker\": {\"colorbar\": {\"outlinewidth\": 0, \"ticks\": \"\"}}, \"type\": \"scattergl\"}], \"scattermapbox\": [{\"marker\": {\"colorbar\": {\"outlinewidth\": 0, \"ticks\": \"\"}}, \"type\": \"scattermapbox\"}], \"scatterpolar\": [{\"marker\": {\"colorbar\": {\"outlinewidth\": 0, \"ticks\": \"\"}}, \"type\": \"scatterpolar\"}], \"scatterpolargl\": [{\"marker\": {\"colorbar\": {\"outlinewidth\": 0, \"ticks\": \"\"}}, \"type\": \"scatterpolargl\"}], \"scatterternary\": [{\"marker\": {\"colorbar\": {\"outlinewidth\": 0, \"ticks\": \"\"}}, \"type\": \"scatterternary\"}], \"surface\": [{\"colorbar\": {\"outlinewidth\": 0, \"ticks\": \"\"}, \"colorscale\": [[0.0, \"#0d0887\"], [0.1111111111111111, \"#46039f\"], [0.2222222222222222, \"#7201a8\"], [0.3333333333333333, \"#9c179e\"], [0.4444444444444444, \"#bd3786\"], [0.5555555555555556, \"#d8576b\"], [0.6666666666666666, \"#ed7953\"], [0.7777777777777778, \"#fb9f3a\"], [0.8888888888888888, \"#fdca26\"], [1.0, \"#f0f921\"]], \"type\": \"surface\"}], \"table\": [{\"cells\": {\"fill\": {\"color\": \"#EBF0F8\"}, \"line\": {\"color\": \"white\"}}, \"header\": {\"fill\": {\"color\": \"#C8D4E3\"}, \"line\": {\"color\": \"white\"}}, \"type\": \"table\"}]}, \"layout\": {\"annotationdefaults\": {\"arrowcolor\": \"#2a3f5f\", \"arrowhead\": 0, \"arrowwidth\": 1}, \"coloraxis\": {\"colorbar\": {\"outlinewidth\": 0, \"ticks\": \"\"}}, \"colorscale\": {\"diverging\": [[0, \"#8e0152\"], [0.1, \"#c51b7d\"], [0.2, \"#de77ae\"], [0.3, \"#f1b6da\"], [0.4, \"#fde0ef\"], [0.5, \"#f7f7f7\"], [0.6, \"#e6f5d0\"], [0.7, \"#b8e186\"], [0.8, \"#7fbc41\"], [0.9, \"#4d9221\"], [1, \"#276419\"]], \"sequential\": [[0.0, \"#0d0887\"], [0.1111111111111111, \"#46039f\"], [0.2222222222222222, \"#7201a8\"], [0.3333333333333333, \"#9c179e\"], [0.4444444444444444, \"#bd3786\"], [0.5555555555555556, \"#d8576b\"], [0.6666666666666666, \"#ed7953\"], [0.7777777777777778, \"#fb9f3a\"], [0.8888888888888888, \"#fdca26\"], [1.0, \"#f0f921\"]], \"sequentialminus\": [[0.0, \"#0d0887\"], [0.1111111111111111, \"#46039f\"], [0.2222222222222222, \"#7201a8\"], [0.3333333333333333, \"#9c179e\"], [0.4444444444444444, \"#bd3786\"], [0.5555555555555556, \"#d8576b\"], [0.6666666666666666, \"#ed7953\"], [0.7777777777777778, \"#fb9f3a\"], [0.8888888888888888, \"#fdca26\"], [1.0, \"#f0f921\"]]}, \"colorway\": [\"#636efa\", \"#EF553B\", \"#00cc96\", \"#ab63fa\", \"#FFA15A\", \"#19d3f3\", \"#FF6692\", \"#B6E880\", \"#FF97FF\", \"#FECB52\"], \"font\": {\"color\": \"#2a3f5f\"}, \"geo\": {\"bgcolor\": \"white\", \"lakecolor\": \"white\", \"landcolor\": \"#E5ECF6\", \"showlakes\": true, \"showland\": true, \"subunitcolor\": \"white\"}, \"hoverlabel\": {\"align\": \"left\"}, \"hovermode\": \"closest\", \"mapbox\": {\"style\": \"light\"}, \"paper_bgcolor\": \"white\", \"plot_bgcolor\": \"#E5ECF6\", \"polar\": {\"angularaxis\": {\"gridcolor\": \"white\", \"linecolor\": \"white\", \"ticks\": \"\"}, \"bgcolor\": \"#E5ECF6\", \"radialaxis\": {\"gridcolor\": \"white\", \"linecolor\": \"white\", \"ticks\": \"\"}}, \"scene\": {\"xaxis\": {\"backgroundcolor\": \"#E5ECF6\", \"gridcolor\": \"white\", \"gridwidth\": 2, \"linecolor\": \"white\", \"showbackground\": true, \"ticks\": \"\", \"zerolinecolor\": \"white\"}, \"yaxis\": {\"backgroundcolor\": \"#E5ECF6\", \"gridcolor\": \"white\", \"gridwidth\": 2, \"linecolor\": \"white\", \"showbackground\": true, \"ticks\": \"\", \"zerolinecolor\": \"white\"}, \"zaxis\": {\"backgroundcolor\": \"#E5ECF6\", \"gridcolor\": \"white\", \"gridwidth\": 2, \"linecolor\": \"white\", \"showbackground\": true, \"ticks\": \"\", \"zerolinecolor\": \"white\"}}, \"shapedefaults\": {\"line\": {\"color\": \"#2a3f5f\"}}, \"ternary\": {\"aaxis\": {\"gridcolor\": \"white\", \"linecolor\": \"white\", \"ticks\": \"\"}, \"baxis\": {\"gridcolor\": \"white\", \"linecolor\": \"white\", \"ticks\": \"\"}, \"bgcolor\": \"#E5ECF6\", \"caxis\": {\"gridcolor\": \"white\", \"linecolor\": \"white\", \"ticks\": \"\"}}, \"title\": {\"x\": 0.05}, \"xaxis\": {\"automargin\": true, \"gridcolor\": \"white\", \"linecolor\": \"white\", \"ticks\": \"\", \"title\": {\"standoff\": 15}, \"zerolinecolor\": \"white\", \"zerolinewidth\": 2}, \"yaxis\": {\"automargin\": true, \"gridcolor\": \"white\", \"linecolor\": \"white\", \"ticks\": \"\", \"title\": {\"standoff\": 15}, \"zerolinecolor\": \"white\", \"zerolinewidth\": 2}}}, \"width\": 900, \"xaxis\": {\"anchor\": \"y\", \"domain\": [0.0, 1.0], \"linecolor\": \"rgb(204, 204, 204)\", \"linewidth\": 2, \"showgrid\": false, \"showline\": true, \"showticklabels\": true, \"tickfont\": {\"family\": \"Arial\", \"size\": 10}, \"ticks\": \"outside\"}, \"yaxis\": {\"anchor\": \"x\", \"domain\": [0.525, 1.0], \"linecolor\": \"rgb(204, 204, 204)\", \"linewidth\": 2, \"showgrid\": true, \"showline\": true, \"showticklabels\": true, \"tickfont\": {\"family\": \"Arial\", \"size\": 16}, \"ticks\": \"outside\", \"title\": {\"text\": \"COVID Cases per 100K People\"}}},                        {\"responsive\": true}                    ).then(function(){\n",
       "                            \n",
       "var gd = document.getElementById('eb3610eb-ea69-4e87-9821-877c2b55da41');\n",
       "var x = new MutationObserver(function (mutations, observer) {{\n",
       "        var display = window.getComputedStyle(gd).display;\n",
       "        if (!display || display === 'none') {{\n",
       "            console.log([gd, 'removed!']);\n",
       "            Plotly.purge(gd);\n",
       "            observer.disconnect();\n",
       "        }}\n",
       "}});\n",
       "\n",
       "// Listen for the removal of the full notebook cells\n",
       "var notebookContainer = gd.closest('#notebook-container');\n",
       "if (notebookContainer) {{\n",
       "    x.observe(notebookContainer, {childList: true});\n",
       "}}\n",
       "\n",
       "// Listen for the clearing of the current output cell\n",
       "var outputEl = gd.closest('.output');\n",
       "if (outputEl) {{\n",
       "    x.observe(outputEl, {childList: true});\n",
       "}}\n",
       "\n",
       "                        })                };                });            </script>        </div>"
      ]
     },
     "metadata": {},
     "output_type": "display_data"
    }
   ],
   "source": [
    "import plotly.graph_objects as go\n",
    "from plotly.subplots import make_subplots\n",
    "\n",
    "weeks = list(case_rate_df['week_ending'])\n",
    "nyc = list(case_rate_df['CASERATE_CITY'])\n",
    "manhattan = list(case_rate_df['CASERATE_' + BOROUGH])\n",
    "cta = list(case_rate_df['CASERATE_' + CTA])\n",
    "\n",
    "figX = make_subplots(\n",
    "    rows=2, cols=1,\n",
    "    vertical_spacing=0.05,\n",
    "    specs=[[{\"type\": \"xy\"}],\n",
    "           [{\"type\": \"table\"}]]\n",
    ")\n",
    "\n",
    "\n",
    "figX.add_trace(\n",
    "    go.Scatter(\n",
    "        x=weeks, \n",
    "        y=nyc, \n",
    "        name='New York City', \n",
    "        line=dict(color='darkblue', width=4, dash='dot')\n",
    "    ),\n",
    "    row=1, col=1\n",
    ")\n",
    "\n",
    "figX.add_trace(\n",
    "    go.Scatter(\n",
    "        x=weeks, \n",
    "        y=manhattan, \n",
    "        name='Manhattan', \n",
    "        line=dict(color='green', width=4, dash='dash')\n",
    "    ),\n",
    "    row=1, col=1\n",
    ")\n",
    "\n",
    "figX.add_trace(\n",
    "    go.Scatter(\n",
    "        x=weeks, \n",
    "        y=cta, \n",
    "        name=cta_name, \n",
    "        line=dict(color='firebrick', width=4)\n",
    "    ),\n",
    "    row=1, col=1\n",
    ")\n",
    "\n",
    "\n",
    "figX.add_trace(\n",
    "    go.Table(\n",
    "        header=dict(\n",
    "            values=[\"<b>Week Ending</b>\", \"<b>New York City</b>\", \"<b>Manhattan</b>\", \"<b>\" + cta_name + \"</b>\"],\n",
    "            font=dict(family='Arial', size=14),\n",
    "            height=30,\n",
    "            align=['left', 'right']\n",
    "        ),\n",
    "        cells=dict(\n",
    "            values=[weeks, nyc, manhattan, cta],\n",
    "            font=dict(family='Arial', size=16),\n",
    "            height=30,\n",
    "            align=['left', 'right']\n",
    "        )\n",
    "    ),\n",
    "    row=2, col=1\n",
    ")\n",
    "\n",
    "figX.update_layout(\n",
    "    xaxis=dict(\n",
    "        showline=True,\n",
    "        showgrid=False,\n",
    "        showticklabels=True,\n",
    "        linecolor='rgb(204, 204, 204)',\n",
    "        linewidth=2,\n",
    "        ticks='outside',\n",
    "        tickfont=dict(\n",
    "            family='Arial',\n",
    "            size=10,\n",
    "        ),\n",
    "    ),\n",
    "    yaxis=dict(\n",
    "        showline=True,\n",
    "        showgrid=True,\n",
    "        showticklabels=True,\n",
    "        linecolor='rgb(204, 204, 204)',\n",
    "        linewidth=2,\n",
    "        ticks='outside',\n",
    "        tickfont=dict(\n",
    "            family='Arial',\n",
    "            size=16,\n",
    "        ),\n",
    "    )\n",
    ")\n",
    "\n",
    "figX.update_layout(\n",
    "    yaxis_title='COVID Cases per 100K People',\n",
    "    font=dict(family='Arial', size=14)\n",
    ")\n",
    "\n",
    "# Make it even prettier with annotations\n",
    "#annotations = []\n",
    "#annotations.append(dict(\n",
    "#    xref='paper', yref='paper', x=0.0, y=1.01,\n",
    "#    xanchor='left', yanchor='bottom',\n",
    "#    text='COVID Case Rates: NYC vs. Manhattan vs. ' + cta_name,\n",
    "#    font=dict(family='Arial', size=20),\n",
    "#    showarrow=False)) \n",
    "#\n",
    "#annotations.append(dict(\n",
    "#    xref='paper', yref='paper', x=0.5, y=0.14,\n",
    "#    xanchor='center', yanchor='top',\n",
    "#    text='Source: NYC Department of Health and Mental Hygiene (https://github.com/nychealth/coronavirus-data)',\n",
    "#    font=dict(family='Arial', size=12),\n",
    "#    showarrow=False))\n",
    "\n",
    "#figX.update_layout(annotations=annotations)\n",
    "figX.update_layout(width=900, height=1600)"
   ]
  },
  {
   "cell_type": "markdown",
   "metadata": {},
   "source": [
    "That is a lot nicer looking. "
   ]
  },
  {
   "cell_type": "markdown",
   "metadata": {},
   "source": [
    "## What's Next?\n",
    "If I have time, I may explore log/log visualisations, to see if I can detect a \"bend in the curve\" for exponential growth (or decline) in my neighborhood. Take a look at [this video](https://www.youtube.com/watch?v=54XLXg4fYsc&t=3s&ab_channel=minutephysics) (or [this page](https://aatishb.com/covidtrends/?location=Denmark&location=France&location=Sweden&location=US)) for an example. "
   ]
  }
 ],
 "metadata": {
  "kernelspec": {
   "display_name": "Python 3",
   "language": "python",
   "name": "python3"
  },
  "language_info": {
   "codemirror_mode": {
    "name": "ipython",
    "version": 3
   },
   "file_extension": ".py",
   "mimetype": "text/x-python",
   "name": "python",
   "nbconvert_exporter": "python",
   "pygments_lexer": "ipython3",
   "version": "3.8.3"
  }
 },
 "nbformat": 4,
 "nbformat_minor": 4
}
